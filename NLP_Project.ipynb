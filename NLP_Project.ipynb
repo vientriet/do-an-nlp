{
  "nbformat": 4,
  "nbformat_minor": 0,
  "metadata": {
    "colab": {
      "provenance": []
    },
    "kernelspec": {
      "name": "python3",
      "display_name": "Python 3"
    },
    "language_info": {
      "name": "python"
    }
  },
  "cells": [
    {
      "cell_type": "markdown",
      "source": [
        "**Import các thư viện cần thiết**"
      ],
      "metadata": {
        "id": "F2aZL67lnfu4"
      }
    },
    {
      "cell_type": "code",
      "execution_count": 1,
      "metadata": {
        "id": "AG6T8uweNBO0"
      },
      "outputs": [],
      "source": [
        "import numpy as np\n",
        "import pandas as pd\n",
        "import matplotlib.pyplot as plt \n",
        "import seaborn as sns "
      ]
    },
    {
      "cell_type": "code",
      "source": [
        "import nltk\n",
        "import re\n",
        "from nltk.tokenize import word_tokenize\n",
        "from nltk.corpus import stopwords\n",
        "from nltk.stem import PorterStemmer\n",
        "nltk.download('stopwords')\n",
        "nltk.download('punkt')"
      ],
      "metadata": {
        "id": "txnWg_zUEfpu",
        "colab": {
          "base_uri": "https://localhost:8080/"
        },
        "outputId": "71c733f3-3f47-4805-e9a0-2a15d62589de"
      },
      "execution_count": 2,
      "outputs": [
        {
          "output_type": "stream",
          "name": "stderr",
          "text": [
            "[nltk_data] Downloading package stopwords to /root/nltk_data...\n",
            "[nltk_data]   Package stopwords is already up-to-date!\n",
            "[nltk_data] Downloading package punkt to /root/nltk_data...\n",
            "[nltk_data]   Package punkt is already up-to-date!\n"
          ]
        },
        {
          "output_type": "execute_result",
          "data": {
            "text/plain": [
              "True"
            ]
          },
          "metadata": {},
          "execution_count": 2
        }
      ]
    },
    {
      "cell_type": "markdown",
      "source": [
        "**Đọc dữ liệu và biểu diễn trực quan hóa dữ liệu**"
      ],
      "metadata": {
        "id": "J8eZ8q4Tns_-"
      }
    },
    {
      "cell_type": "code",
      "source": [
        "df = pd.read_csv('all-data.csv', names = ['labels','messages'], encoding='ISO-8859-1')\n",
        "df.head()"
      ],
      "metadata": {
        "colab": {
          "base_uri": "https://localhost:8080/",
          "height": 206
        },
        "id": "PiNtlbjWN44Z",
        "outputId": "efdfcdc2-db34-4455-e623-cdd659de6808"
      },
      "execution_count": 3,
      "outputs": [
        {
          "output_type": "execute_result",
          "data": {
            "text/plain": [
              "     labels                                           messages\n",
              "0   neutral  According to Gran , the company has no plans t...\n",
              "1   neutral  Technopolis plans to develop in stages an area...\n",
              "2  negative  The international electronic industry company ...\n",
              "3  positive  With the new production plant the company woul...\n",
              "4  positive  According to the company 's updated strategy f..."
            ],
            "text/html": [
              "\n",
              "  <div id=\"df-02c4515b-9167-47a5-bd48-74c7738c9084\">\n",
              "    <div class=\"colab-df-container\">\n",
              "      <div>\n",
              "<style scoped>\n",
              "    .dataframe tbody tr th:only-of-type {\n",
              "        vertical-align: middle;\n",
              "    }\n",
              "\n",
              "    .dataframe tbody tr th {\n",
              "        vertical-align: top;\n",
              "    }\n",
              "\n",
              "    .dataframe thead th {\n",
              "        text-align: right;\n",
              "    }\n",
              "</style>\n",
              "<table border=\"1\" class=\"dataframe\">\n",
              "  <thead>\n",
              "    <tr style=\"text-align: right;\">\n",
              "      <th></th>\n",
              "      <th>labels</th>\n",
              "      <th>messages</th>\n",
              "    </tr>\n",
              "  </thead>\n",
              "  <tbody>\n",
              "    <tr>\n",
              "      <th>0</th>\n",
              "      <td>neutral</td>\n",
              "      <td>According to Gran , the company has no plans t...</td>\n",
              "    </tr>\n",
              "    <tr>\n",
              "      <th>1</th>\n",
              "      <td>neutral</td>\n",
              "      <td>Technopolis plans to develop in stages an area...</td>\n",
              "    </tr>\n",
              "    <tr>\n",
              "      <th>2</th>\n",
              "      <td>negative</td>\n",
              "      <td>The international electronic industry company ...</td>\n",
              "    </tr>\n",
              "    <tr>\n",
              "      <th>3</th>\n",
              "      <td>positive</td>\n",
              "      <td>With the new production plant the company woul...</td>\n",
              "    </tr>\n",
              "    <tr>\n",
              "      <th>4</th>\n",
              "      <td>positive</td>\n",
              "      <td>According to the company 's updated strategy f...</td>\n",
              "    </tr>\n",
              "  </tbody>\n",
              "</table>\n",
              "</div>\n",
              "      <button class=\"colab-df-convert\" onclick=\"convertToInteractive('df-02c4515b-9167-47a5-bd48-74c7738c9084')\"\n",
              "              title=\"Convert this dataframe to an interactive table.\"\n",
              "              style=\"display:none;\">\n",
              "        \n",
              "  <svg xmlns=\"http://www.w3.org/2000/svg\" height=\"24px\"viewBox=\"0 0 24 24\"\n",
              "       width=\"24px\">\n",
              "    <path d=\"M0 0h24v24H0V0z\" fill=\"none\"/>\n",
              "    <path d=\"M18.56 5.44l.94 2.06.94-2.06 2.06-.94-2.06-.94-.94-2.06-.94 2.06-2.06.94zm-11 1L8.5 8.5l.94-2.06 2.06-.94-2.06-.94L8.5 2.5l-.94 2.06-2.06.94zm10 10l.94 2.06.94-2.06 2.06-.94-2.06-.94-.94-2.06-.94 2.06-2.06.94z\"/><path d=\"M17.41 7.96l-1.37-1.37c-.4-.4-.92-.59-1.43-.59-.52 0-1.04.2-1.43.59L10.3 9.45l-7.72 7.72c-.78.78-.78 2.05 0 2.83L4 21.41c.39.39.9.59 1.41.59.51 0 1.02-.2 1.41-.59l7.78-7.78 2.81-2.81c.8-.78.8-2.07 0-2.86zM5.41 20L4 18.59l7.72-7.72 1.47 1.35L5.41 20z\"/>\n",
              "  </svg>\n",
              "      </button>\n",
              "      \n",
              "  <style>\n",
              "    .colab-df-container {\n",
              "      display:flex;\n",
              "      flex-wrap:wrap;\n",
              "      gap: 12px;\n",
              "    }\n",
              "\n",
              "    .colab-df-convert {\n",
              "      background-color: #E8F0FE;\n",
              "      border: none;\n",
              "      border-radius: 50%;\n",
              "      cursor: pointer;\n",
              "      display: none;\n",
              "      fill: #1967D2;\n",
              "      height: 32px;\n",
              "      padding: 0 0 0 0;\n",
              "      width: 32px;\n",
              "    }\n",
              "\n",
              "    .colab-df-convert:hover {\n",
              "      background-color: #E2EBFA;\n",
              "      box-shadow: 0px 1px 2px rgba(60, 64, 67, 0.3), 0px 1px 3px 1px rgba(60, 64, 67, 0.15);\n",
              "      fill: #174EA6;\n",
              "    }\n",
              "\n",
              "    [theme=dark] .colab-df-convert {\n",
              "      background-color: #3B4455;\n",
              "      fill: #D2E3FC;\n",
              "    }\n",
              "\n",
              "    [theme=dark] .colab-df-convert:hover {\n",
              "      background-color: #434B5C;\n",
              "      box-shadow: 0px 1px 3px 1px rgba(0, 0, 0, 0.15);\n",
              "      filter: drop-shadow(0px 1px 2px rgba(0, 0, 0, 0.3));\n",
              "      fill: #FFFFFF;\n",
              "    }\n",
              "  </style>\n",
              "\n",
              "      <script>\n",
              "        const buttonEl =\n",
              "          document.querySelector('#df-02c4515b-9167-47a5-bd48-74c7738c9084 button.colab-df-convert');\n",
              "        buttonEl.style.display =\n",
              "          google.colab.kernel.accessAllowed ? 'block' : 'none';\n",
              "\n",
              "        async function convertToInteractive(key) {\n",
              "          const element = document.querySelector('#df-02c4515b-9167-47a5-bd48-74c7738c9084');\n",
              "          const dataTable =\n",
              "            await google.colab.kernel.invokeFunction('convertToInteractive',\n",
              "                                                     [key], {});\n",
              "          if (!dataTable) return;\n",
              "\n",
              "          const docLinkHtml = 'Like what you see? Visit the ' +\n",
              "            '<a target=\"_blank\" href=https://colab.research.google.com/notebooks/data_table.ipynb>data table notebook</a>'\n",
              "            + ' to learn more about interactive tables.';\n",
              "          element.innerHTML = '';\n",
              "          dataTable['output_type'] = 'display_data';\n",
              "          await google.colab.output.renderOutput(dataTable, element);\n",
              "          const docLink = document.createElement('div');\n",
              "          docLink.innerHTML = docLinkHtml;\n",
              "          element.appendChild(docLink);\n",
              "        }\n",
              "      </script>\n",
              "    </div>\n",
              "  </div>\n",
              "  "
            ]
          },
          "metadata": {},
          "execution_count": 3
        }
      ]
    },
    {
      "cell_type": "code",
      "source": [
        "# Kiểm tra xem có tồn tại missing values hay không?\n",
        "df.isnull().sum()"
      ],
      "metadata": {
        "colab": {
          "base_uri": "https://localhost:8080/"
        },
        "id": "4ZCWwWlaOTA_",
        "outputId": "618a76ce-3735-4b09-80d9-20221503e619"
      },
      "execution_count": 4,
      "outputs": [
        {
          "output_type": "execute_result",
          "data": {
            "text/plain": [
              "labels      0\n",
              "messages    0\n",
              "dtype: int64"
            ]
          },
          "metadata": {},
          "execution_count": 4
        }
      ]
    },
    {
      "cell_type": "code",
      "source": [
        "# Kiểm tra shape của dữ liệu\n",
        "df.shape"
      ],
      "metadata": {
        "colab": {
          "base_uri": "https://localhost:8080/"
        },
        "id": "MHAeEnOGOVmf",
        "outputId": "783cefa3-bc0a-42fa-c728-bae4b4deb5c9"
      },
      "execution_count": 5,
      "outputs": [
        {
          "output_type": "execute_result",
          "data": {
            "text/plain": [
              "(4846, 2)"
            ]
          },
          "metadata": {},
          "execution_count": 5
        }
      ]
    },
    {
      "cell_type": "code",
      "source": [
        "plt.figure(figsize=(9,7))\n",
        "df.labels.value_counts().plot(kind='bar',color=['blue','lime','red'])\n",
        "plt.xlabel(\"Loại cảm xúc\", color = 'r')\n",
        "plt.ylabel(\"Số lượng\", color = 'r')\n",
        "plt.title(\"Biểu đồ biểu diễn số lượng của từng loại cảm xúc của dữ liệu\", color = 'r', fontsize = 15);"
      ],
      "metadata": {
        "colab": {
          "base_uri": "https://localhost:8080/",
          "height": 497
        },
        "id": "dPs9XFSnOeLo",
        "outputId": "5df6b77b-3bb8-4932-c186-a7528e7e1004"
      },
      "execution_count": 6,
      "outputs": [
        {
          "output_type": "display_data",
          "data": {
            "text/plain": [
              "<Figure size 648x504 with 1 Axes>"
            ],
            "image/png": "[encoded data removed]"
          },
          "metadata": {
            "needs_background": "light"
          }
        }
      ]
    },
    {
      "cell_type": "markdown",
      "source": [
        "**Chuyển đổi labels sang dạng số (Neutral: 0; Negative: 1; Positive: 2)**"
      ],
      "metadata": {
        "id": "kG2rHLAdqARF"
      }
    },
    {
      "cell_type": "code",
      "source": [
        "def func(df_new):\n",
        "    if df_new == 'neutral':\n",
        "        return 0\n",
        "    elif df_new == 'negative':\n",
        "        return 1\n",
        "    else:\n",
        "        return 2\n",
        "df['target'] = df.labels.apply(func)\n",
        "df.head()"
      ],
      "metadata": {
        "colab": {
          "base_uri": "https://localhost:8080/",
          "height": 206
        },
        "id": "ZZRnTZlQOabA",
        "outputId": "750cc6e4-f403-4168-8ce4-ebd43b2ae0f0"
      },
      "execution_count": 7,
      "outputs": [
        {
          "output_type": "execute_result",
          "data": {
            "text/plain": [
              "     labels                                           messages  target\n",
              "0   neutral  According to Gran , the company has no plans t...       0\n",
              "1   neutral  Technopolis plans to develop in stages an area...       0\n",
              "2  negative  The international electronic industry company ...       1\n",
              "3  positive  With the new production plant the company woul...       2\n",
              "4  positive  According to the company 's updated strategy f...       2"
            ],
            "text/html": [
              "\n",
              "  <div id=\"df-0f7e36ca-9203-4fcd-a616-360457950430\">\n",
              "    <div class=\"colab-df-container\">\n",
              "      <div>\n",
              "<style scoped>\n",
              "    .dataframe tbody tr th:only-of-type {\n",
              "        vertical-align: middle;\n",
              "    }\n",
              "\n",
              "    .dataframe tbody tr th {\n",
              "        vertical-align: top;\n",
              "    }\n",
              "\n",
              "    .dataframe thead th {\n",
              "        text-align: right;\n",
              "    }\n",
              "</style>\n",
              "<table border=\"1\" class=\"dataframe\">\n",
              "  <thead>\n",
              "    <tr style=\"text-align: right;\">\n",
              "      <th></th>\n",
              "      <th>labels</th>\n",
              "      <th>messages</th>\n",
              "      <th>target</th>\n",
              "    </tr>\n",
              "  </thead>\n",
              "  <tbody>\n",
              "    <tr>\n",
              "      <th>0</th>\n",
              "      <td>neutral</td>\n",
              "      <td>According to Gran , the company has no plans t...</td>\n",
              "      <td>0</td>\n",
              "    </tr>\n",
              "    <tr>\n",
              "      <th>1</th>\n",
              "      <td>neutral</td>\n",
              "      <td>Technopolis plans to develop in stages an area...</td>\n",
              "      <td>0</td>\n",
              "    </tr>\n",
              "    <tr>\n",
              "      <th>2</th>\n",
              "      <td>negative</td>\n",
              "      <td>The international electronic industry company ...</td>\n",
              "      <td>1</td>\n",
              "    </tr>\n",
              "    <tr>\n",
              "      <th>3</th>\n",
              "      <td>positive</td>\n",
              "      <td>With the new production plant the company woul...</td>\n",
              "      <td>2</td>\n",
              "    </tr>\n",
              "    <tr>\n",
              "      <th>4</th>\n",
              "      <td>positive</td>\n",
              "      <td>According to the company 's updated strategy f...</td>\n",
              "      <td>2</td>\n",
              "    </tr>\n",
              "  </tbody>\n",
              "</table>\n",
              "</div>\n",
              "      <button class=\"colab-df-convert\" onclick=\"convertToInteractive('df-0f7e36ca-9203-4fcd-a616-360457950430')\"\n",
              "              title=\"Convert this dataframe to an interactive table.\"\n",
              "              style=\"display:none;\">\n",
              "        \n",
              "  <svg xmlns=\"http://www.w3.org/2000/svg\" height=\"24px\"viewBox=\"0 0 24 24\"\n",
              "       width=\"24px\">\n",
              "    <path d=\"M0 0h24v24H0V0z\" fill=\"none\"/>\n",
              "    <path d=\"M18.56 5.44l.94 2.06.94-2.06 2.06-.94-2.06-.94-.94-2.06-.94 2.06-2.06.94zm-11 1L8.5 8.5l.94-2.06 2.06-.94-2.06-.94L8.5 2.5l-.94 2.06-2.06.94zm10 10l.94 2.06.94-2.06 2.06-.94-2.06-.94-.94-2.06-.94 2.06-2.06.94z\"/><path d=\"M17.41 7.96l-1.37-1.37c-.4-.4-.92-.59-1.43-.59-.52 0-1.04.2-1.43.59L10.3 9.45l-7.72 7.72c-.78.78-.78 2.05 0 2.83L4 21.41c.39.39.9.59 1.41.59.51 0 1.02-.2 1.41-.59l7.78-7.78 2.81-2.81c.8-.78.8-2.07 0-2.86zM5.41 20L4 18.59l7.72-7.72 1.47 1.35L5.41 20z\"/>\n",
              "  </svg>\n",
              "      </button>\n",
              "      \n",
              "  <style>\n",
              "    .colab-df-container {\n",
              "      display:flex;\n",
              "      flex-wrap:wrap;\n",
              "      gap: 12px;\n",
              "    }\n",
              "\n",
              "    .colab-df-convert {\n",
              "      background-color: #E8F0FE;\n",
              "      border: none;\n",
              "      border-radius: 50%;\n",
              "      cursor: pointer;\n",
              "      display: none;\n",
              "      fill: #1967D2;\n",
              "      height: 32px;\n",
              "      padding: 0 0 0 0;\n",
              "      width: 32px;\n",
              "    }\n",
              "\n",
              "    .colab-df-convert:hover {\n",
              "      background-color: #E2EBFA;\n",
              "      box-shadow: 0px 1px 2px rgba(60, 64, 67, 0.3), 0px 1px 3px 1px rgba(60, 64, 67, 0.15);\n",
              "      fill: #174EA6;\n",
              "    }\n",
              "\n",
              "    [theme=dark] .colab-df-convert {\n",
              "      background-color: #3B4455;\n",
              "      fill: #D2E3FC;\n",
              "    }\n",
              "\n",
              "    [theme=dark] .colab-df-convert:hover {\n",
              "      background-color: #434B5C;\n",
              "      box-shadow: 0px 1px 3px 1px rgba(0, 0, 0, 0.15);\n",
              "      filter: drop-shadow(0px 1px 2px rgba(0, 0, 0, 0.3));\n",
              "      fill: #FFFFFF;\n",
              "    }\n",
              "  </style>\n",
              "\n",
              "      <script>\n",
              "        const buttonEl =\n",
              "          document.querySelector('#df-0f7e36ca-9203-4fcd-a616-360457950430 button.colab-df-convert');\n",
              "        buttonEl.style.display =\n",
              "          google.colab.kernel.accessAllowed ? 'block' : 'none';\n",
              "\n",
              "        async function convertToInteractive(key) {\n",
              "          const element = document.querySelector('#df-0f7e36ca-9203-4fcd-a616-360457950430');\n",
              "          const dataTable =\n",
              "            await google.colab.kernel.invokeFunction('convertToInteractive',\n",
              "                                                     [key], {});\n",
              "          if (!dataTable) return;\n",
              "\n",
              "          const docLinkHtml = 'Like what you see? Visit the ' +\n",
              "            '<a target=\"_blank\" href=https://colab.research.google.com/notebooks/data_table.ipynb>data table notebook</a>'\n",
              "            + ' to learn more about interactive tables.';\n",
              "          element.innerHTML = '';\n",
              "          dataTable['output_type'] = 'display_data';\n",
              "          await google.colab.output.renderOutput(dataTable, element);\n",
              "          const docLink = document.createElement('div');\n",
              "          docLink.innerHTML = docLinkHtml;\n",
              "          element.appendChild(docLink);\n",
              "        }\n",
              "      </script>\n",
              "    </div>\n",
              "  </div>\n",
              "  "
            ]
          },
          "metadata": {},
          "execution_count": 7
        }
      ]
    },
    {
      "cell_type": "markdown",
      "source": [
        "**Text Preprocessing**"
      ],
      "metadata": {
        "id": "35VNHbLMqoGE"
      }
    },
    {
      "cell_type": "code",
      "source": [
        "# Text preprocessing\n",
        "corpous = list()\n",
        "\n",
        "# Object for porterstem\n",
        "ps = PorterStemmer()\n",
        "\n",
        "for i in range(len(df)):\n",
        "    text = re.sub(r'[^a-zA-Z]',' ',df.messages[i]) \n",
        "    text = text.lower()\n",
        "    text = text.split()\n",
        "    text = [ps.stem(word) for word in text if word not in set(stopwords.words('english'))]\n",
        "    text = ' '.join(text)\n",
        "    corpous.append(text)"
      ],
      "metadata": {
        "id": "hN-_WqfDBtKm"
      },
      "execution_count": 8,
      "outputs": []
    },
    {
      "cell_type": "code",
      "source": [
        "print(corpous[0:500])"
      ],
      "metadata": {
        "colab": {
          "base_uri": "https://localhost:8080/"
        },
        "id": "w0uHb1miq8P4",
        "outputId": "7c8903ca-36df-4d7a-b358-d008ca669d7b"
      },
      "execution_count": 9,
      "outputs": [
        {
          "output_type": "stream",
          "name": "stdout",
          "text": [
            "['accord gran compani plan move product russia although compani grow', 'technopoli plan develop stage area less squar meter order host compani work comput technolog telecommun statement said', 'intern electron industri compani elcoteq laid ten employe tallinn facil contrari earlier layoff compani contract rank offic worker daili postime report', 'new product plant compani would increas capac meet expect increas demand would improv use raw materi therefor increas product profit', 'accord compani updat strategi year baswar target long term net sale growth rang oper profit margin net sale', 'financ aspocomp growth aspocomp aggress pursu growth strategi increasingli focus technolog demand hdi print circuit board pcb', 'last quarter componenta net sale doubl eur eur period year earlier move zero pre tax profit pre tax loss eur', 'third quarter net sale increas eur mn oper profit eur mn', 'oper profit rose eur mn eur mn correspond period repres net sale', 'oper profit total eur mn eur mn repres net sale', 'teliasonera tlsn said offer line strategi increas ownership core busi hold would strengthen eesti telekom offer custom', 'stora enso norsk skog real upm kymmen credit suiss first boston cfsb rais fair valu share four largest nordic forestri group', 'purchas agreement ton gasolin deliveri hamina termin finland sign nest oil oyj averag platt index septemb plu eight us dollar per month', 'finnish talentum report oper profit increas eur mn eur mn net sale total eur mn eur mn', 'cloth retail chain sepp l sale increas eur mn oper profit rose eur mn eur mn', 'consolid net sale increas reach eur oper profit amount eur compar loss eur prior year period', 'foundri divis report sale increas eur mn eur mn correspond period sale machin shop divis increas eur mn eur mn correspond period', 'helsinki afx share close higher led nokia announc plan team sanyo manufactur g handset nokian tyre fourth quarter earn report beat analyst expect dealer said', 'incap contract manufactur servic pvt ltd subsidiari incap corpor finland plan doubl revenu', 'board director propos dividend eur per share eur per share paid', 'lifetre found revenu risen averag margin late', 'filippova trilater agreement invest construct technolog park st petersburg sign cours forum day russian economi open helsinki today', 'megafon subscrib base increas million user decemb market share number custom amount late late accord teliasonera estim', 'net incom life insur doubl eur mn eur mn net incom non life insur rose eur mn eur mn correspond period', 'net sale increas eur eur pretax profit rose eur eur usd', 'net sale surg eur telest said eur sale came acquisit made', 'nordea group oper profit increas percent year year billion euro total revenu percent billion euro', 'oper profit nine month period increas eur net sale increas eur compar correspond period', 'oper profit nine month period increas eur net sale increas eur compar correspond period', 'oper profit three month period increas eur revenu increas eur compar correspond period', 'brazilian unit finnish secur solut provid f secur sign new client last year onlin news sourc resel web quot divis commerci director vladimir brand say', 'compani net profit rose year million euro sale million euro year compani said earlier', 'lithuanian beer market made million liter januari rise percent year earlier figur lithuanian brewer associ report cite result member', 'vike line cargo revenu increas eur mn cargo volum increas cargo unit', 'fair valu properti portfolio doubl result kapite acquisit total eur million', 'februari finnish media compani sanoma oyj hel saa v said yesterday net profit almost tripl eur eur announc propos rais payout', 'helsinki eliiv today report ep eur increas ep eur', 'aspo plc stock exchang releas februari esl ship ltd part aspo group sign new long term contract rautaruukki corpor marin transport raw materi baltic sea', 'commiss incom increas eur mn lend volum rose', 'januari traffic measur revenu passeng kilometr rpk went capac measur avail seat kilometr ask rose', 'januari septemb fiskar net profit went year year eur million net sale eur million eur million', 'net incom life insur rose eur mn eur mn net incom non life insur eur mn eur mn', 'nyrstar also agre suppli talvivaara tonn sulphur acid per annum use talvivaara leach process period suppli zinc concentr', 'sale depart store divis hobbi hall increas sale cloth store subsidiari seppala decreas', 'sale risen export market', 'sale increas due grow market rate increas oper', 'agreement strengthen long term partnership nokia siemen network', 'agreement sign biohit healthcar ltd uk base subsidiari biohit oyj finnish public compani develop manufactur market liquid handl product diagnost test system', 'compani also estim alreadi carri invest lead increas net sale reach eur million', 'compani order book stood bln euro bln septemb pct year intern order amount mln euro mln', 'compani said paper demand increas main market includ public paper increas averag paper price percent compar last year', 'world second largest stainless steel maker said net profit three month period dec surg euro million us million euro us per share euro million euro per share previou year', 'within framework partnership nokia siemen network sign initi framework purchas agreement sitron subsidiari jsc mikron largest manufactur export microelectron compon russia', 'seppala revenu increas eur finland revenu went eur sale abroad rose eur sale increas baltic countri well russia ukrain', 'share standard charter stan rose ftse royal bank scotland rb share rose barclay share barc bc', 'share nokia corp rose thursday cell phone maker said third quarter earn almost doubl share global handset market increas', 'financi report publish friday seb said net profit soar sek bn year earlier sek bn propos dividend increas sek per share', 'sale depart store divis increas sale cloth store subsidiari seppala increas meanwhil sale hobbi hall decreas', 'request finnish media compani alma media newspap research manag jari kaivo oja finland futur research centr turku school econom drawn futur scenario finland nation economi use model develop univers denver', 'sweden gallerix accumul sek denomin sale eur denomin sale', 'compani support global custom develop new technolog offer fast rout product develop applic volum product', 'invest place atria plan expand moscow market', 'new agreement continu theagreement sign earlier year lemminkainen group wherebi cramo acquir entir construct machin fleet oflemminkainen talo oy ita ja pohjoi suomo sign asimilar agreement said tatu hauhio manag director ofcramo finland', 'first contract envisag construct three ferryboat option two unit confirm total valu mln euro mln', 'june sold percent stake nordstjernan invest group taken option acquir eqt remain share', 'kesko corpor stock exchang releas kesko corpor aspo plc today sign agreement aspo acquir share capit kauko telko ltd subsidiari wholli own kesko', 'sponda plc stock exchang releas decemb eur billion syndic credit facil sponda sponda sign agreement one year syndic credit facil total eur billion', 'stock exchang announc juli baswar share subscript warrant increas share capit total share subscrib baswar warrant program', 'contract cover hdo platform ac cxe optic fttb node design increas forward return path capac transmiss network', 'new plant plan electr gener capac megawatt mw heat gener capac', 'omx helsinki index pct helsinki cap portfolio index pct higher', 'sale growth car consider influenc tire market', 'maximum new share subscrib exercis b option stock option plan', 'result share issu number compani share increas share share capit total eur', 'finnish real estat investor sponda plc said wednesday march sign agreement dansk bank helsinki branch year eur credit facil ilmarinen mutual pension insur compani year eur credit facil', 'rout helsinki finland tallinn estonia cargo volum increas cargo volum finland sweden fell', 'measur includ increas synergi economi scale within grimaldi group personnel adjust divest redeliveri excess tonnag', 'rinkuskiai rais sale percent million liter sale kauno alu grew percent liter', 'telecomworldwir april tj group plc sell stake morn digit design oy finnish compani tj group plc said friday april sign agreement sell share morn digit design oy edita oyj', 'telecomworldwir april tj group plc sell stake morn digit design oy finnish compani tj group plc said friday april sign agreement sell share morn digit design oy edita oyj', 'new seri share becom subject trade helsinki stock exchang main list togeth old seri share juli', 'fuel purchas contract sign three month deliveri septemb novemb', 'tiimari oper store six countri includ core finnish market gener turnov mln eur', 'agreement biohit becom focu supplier pipettor dispos pipettor tip vwr custom throughout europ', 'combin servic enabl us offer complex strengthen servic chain limit baltic port connect also get access world wide grimaldi network mediterranean africa north america say uwe bakosch', 'blind spot come vantag point allow investig see whole stori high resolut unbroken video', 'compani still expect turnov slightli increas level ad market predict still poor trustworthi forecast market develop contract manufactur busi current year', 'acquisit consider increas kemira sale market posit russian metal industri coat market', 'januari septemb finnlin net sale rose eur mn eur mn correspond period', 'adjust chang group structur divis net sale increas', 'chang optim oper effici grow busi said julia prohaska director market commun fiskar', 'would invest physic infrastructur would also provid know manag develop scienc technolog park said sunris valley director andriu bagdona', 'februari finnish broadband data commun system provid telest oyj hel tlt v saw net profit jump eur last quarter eur period', 'finnish aktia group oper profit rose eur mn first quarter eur mn first quarter', 'finnish bank land consolid net oper profit increas eur mn first quarter eur mn first quarter', 'finnish financi group aktia report oper profit eur mn januari septemb eur mn correspond period', 'finnish high technolog provid vaahto group report net sale eur mn account period septemb februari increas year earlier', 'net sale finnish food industri compani l nnen tehtaat continu oper increas eur mn eur mn', 'individu promot also gener slightli higher expect revenu', 'biohit alreadi servic mani current genesi custom custom base expect expand result agreement', 'oper profit turnov three month period increas respect eur eur compar correspond period', 'circul revenu increas finland sweden', 'cloth chain sepp l net sale increas eur mn', 'construct volum meanwhil grow rate percent annual', 'finnish swedish construct market still experienc estim annual growth', 'howev biohit estim total net sale continu grow favour trend net sale lead profit', 'fiskar cash flow oper activ amount eur eur previou year', 'lithuania oper profit rose eur eur correspond period', 'fourth quarter net sale increas eur mn eur mn fourth quarter', 'intern sale rose eur mn', 'kalmar espana gener net sale mln euro mln', 'net sale grew period x ac million us million x ac million', 'net sale increas eur april june eur year earlier', 'net sale rose year year eur number charger deliv went million piec', 'net sale total eur mn eur mn correspond period', 'nokia also note averag sell price handset declin period though mobil phone profit margin rose percent percent year ago quarter', 'oper profit increas eur mn eur mn', 'oper profit margin increas', 'oper profit rose eur mn eur mn correspond period', 'oper profit rose eur mn eur mn fourth quarter', 'oper profit eur mn eur mn', 'ramir net sale second quarterend june euro million u million percent increas compar euro million thesecond quarter last year', 'revenu grew percent x ac million million x ac million', 'ruukki announc sign agreement aker solut norway suppli suction anchor septemb kalajoki unit finland', 'ruukki deliveri volum sell price show favour develop compani compar net sale grew year year eur ceo sakari tamminen said', 'sanoma magazin net sale estim grow', 'bank forecast finland gdp grow', 'circuit overal product rate weekli basi excess averag tonn per day volum excess tonn per day reach individu day', 'compani consolid oper profit amount eur mn eur mn year year', 'depart store divis report increas sale per cent', 'fair valu compani invest properti grew eur billion end march eur million year ago', 'last quarter best quarter net sale oper margin rose', 'major breweri increas domest beer sale per cent last year million litr million litr', 'transact doubl tecnomen workfors add fourth net sale', 'oper profit rose eur million', 'purchas cramo becom second largest rental servic provid latvian market', 'prioriti strengthen compani balanc sheet increas cash flow ceo hannu krook said', 'purchas oper part yit strategi expand offer build system servic geograph', 'octob finnish fish tackl compani rapala vmc corp hel rap v said today net profit rose eur first nine month eur period year earlier', 'structur bim build inform model softwar tekla model base softwar provid adopt construct manag deliveri univers project abu dhabi', 'accord finnish metso miner valu compani order gone eur bn month', 'finnish aldata solut sign contract suppli g l system two french retail chain', 'finnish bank land report oper profit rose eur mn second quarter eur mn correspond period', 'finnish financi group aktia oper profit increas eur mn eur mn', 'finnish forest machineri manufactur ponss net sale grew eur mn first quarter eur mn correspond period', 'finnish kci konecran rais net sale growth estim', 'finnish okmet manufactur process silicon wafer semiconductor sensor industri norwegian solar wafer compani norsun sign contract okmet suppli norsun mono silicon crystal use solar cell manufactur', 'finnish pharmaceut compani orion net sale rose eur mn first quarter eur mn first quarter', 'finnish ponss sign agreement babcock africa distribut support ponss forest machin harvest head inform system south africa', 'south african sappi becom largest foreign forest industri compani oper finland result acquisit finnish real corpor graphic paper busi unit', 'accord deputi md pekka silvennoinen aim doubl turnov next three year', 'accord hkscan finland plan increas j rvi suomen portti net sale eur mn eur mn', 'advertis circul revenu grew respect', 'takeov cramo becom second largest rental servic provid latvian market', 'signific sale increas russia', 'alma media expect net sale increas forecast previous', 'also lemmink inen profit account period went eur mn eur mn year ago', 'end march group order book eur mn correspond period', 'time profit compani increas h reach ls', 'aviat system mainten base kansa gener net sale usd million', 'besid increas share meat variou sausag offer number new tast grill product shish kebab segment paavel said', 'oper profit net sale month period increas respect eur eur compar financi year', 'oper profit net sale month period increas respect eur eur compar financi year', 'oper profit net sale month period increas respect eur eur compar', 'oper profit net sale month period increas respect eur eur compar', 'oper profit net sale nine month period increas respect compar correspond period', 'oper profit net sale six month period increas respect eur eur compar correspond period', 'oper profit net sale six month period increas respect eur eur compar correspond period', 'oper profit net sale six month period increas respect eur eur compar correspond period', 'oper profit net sale six month period increas respect eur eur compar correspond period', 'oper profit net sale three month period increas respect eur eur compar correspond period', 'oper profit net sale three month period increas respect eur eur compar correspond quarter', 'oper profit sale three month period increas respect eur eur compar correspond period', 'oper profit turnov nine month period increas respect eur eur compar correspond period year ago', 'oper profit turnov six month period increas respect eur eur compar correspond period', 'oper profit turnov six month period increas respect eur eur compar correspond period year ago', 'cargo volum grew', 'cargo volum increas approxim', 'compar oper profit total eur mn eur mn', 'digia said consolid net sale januari june eur period eur', 'dilut earn per share ep rose eur eur', 'dilut earn per share ep rose eur versu eur', 'dilut earn per share ep rose eur eur', 'dilut earn per share ep rose eur eur', 'dilut ep rose eur eur', 'ebit margin', 'editor note grimaldi gener bln euro bln turnov ansa report may', 'ep quarter eur compar eur third quarter repres group net sale third quarter eur compar eur third quarter', 'ep continu oper came eur', 'equiti ratio compar third quarter net sale frozen food busi total eur third quarter', 'eur q may finnish textil cloth design compani marimekko oyj hel mmo v said today net profit rose eur first quarter eur correspond period year earlier', 'finland base elcoteq se privat held provid electron manufactur servic commun compani said thursday sign long term manufactur suppli deal commun equip compani andrew corp', 'finnish cutleri hand tool maker fiskar oyj abp hel fisa said today net profit rose eur million usd third quarter eur million year earlier', 'finnish depart store chain stockmann oyj abp net profit rose mln euro mln first nine month mln euro mln period', 'finnish lift equip maker konecran oyj said juli net profit rose mln euro mln first half mln euro mln period', 'finnish messag solut develop tecnomen corpor omx helsinki tem v said thursday decemb receiv expans order converg charg solut latin america', 'finnish metal industri solut supplier outotec oyj net profit rose mln euro mln first nine month mln euro mln period', 'finnish metal product compani componenta oyj net profit rose mln euro mln first quarter mln euro mln period', 'finnish offic suppli comput accessori dealer beltton group plc said net profit rose mln euro mln mln euro mln', 'finnish secur privaci softwar solut develop stonesoft oyj said januari preliminari sale stoneg product grew pct year year mln euro mln fourth quarter', 'finnish silicon wafer technolog compani okmet oyj omx helsinki okm v report thursday august oper profit eur period januari june eur correspond period', 'finnish softwar develop done solut oyj said net profit increas mln euro mln mln euro mln', 'first quarter underli oper profit rose mln eur mln year earlier', 'follow acquisit relacom strengthen presenc finland serv oper offic market mobil fix network construct instal mainten servic', 'first nine month compani net profit rose eur eur correspond period', 'helsinki afx retail wholesal group kesko report net sale mln eur februari increas pct year year', 'howev net sale seen grown eur eur', 'howev sale return growth april june ceo pekka eloholma said', 'raguti control finnish breweri report per cent rise beer sale million litr held per cent market share', 'svyturi uteno alu control nordic group baltic beverag hold bbh post per cent growth beer sale januari may million litr', 'contempu gener revenu nok approx', 'addit kone sign two year mainten contract escal', 'decemb alon member lithuanian brewer associ sold total million liter beer increas percent sale million liter decemb', 'januari septemb group net interest incom increas eur mn eur mn januari septemb', 'q bank land net interest incom increas eur mn eur mn', 'sweden oper profit period review total eur mn correspond period', 'fourth quarter orion net profit went year year eur', 'second quarter group net profit rose eur million eur million april june', 'second quarter group net profit rose eur eur april june', 'third quarter net sale increas year year eur million compar currenc rate growth', 'third quarter net sale increas year year eur compar currenc rate growth', 'incap estim gener revenu mln euro mln indian oper', 'market share widen percent percent year earlier', 'total annual revenu come mln zloti mln mln euro', 'kesko agro eesti retail wholesal grain agricultur wareh machineri accessori net sale million euro increas one tenth preced year', 'kesko car import retail busi vv auto saw sale grow pct', 'kone net sale rose year year first nine month', 'adp news feb finnish manag softwar solut provid ixono oyj hel xn v said today net profit rose eur million usd eur million', 'adp news feb finnish solut provid affecto oyj hel afe v said today net profit rose eur million usd eur million', 'adp news feb finnish fish tackl compani rapala vmc corp hel rap v said today net profit rose eur million usd eur million', 'adp news nov finnish electron measur product solut maker vaisala oyj omx vaia said today net profit rose eur million usd first nine month eur', 'adp news oct finnish lift equip maker konecran oyj omx kcr v said today net profit rose eur million usd first nine month eur million', 'metso expect net sale increas compar exchang rate', 'real gener turnov eur bn employe', 'nest oil corp sign long term procur contract honkajoki oy findest protein oy own finnish food manufactur suppli anim fat biodiesel product nest b cd porvoo finland refineri', 'net interest incom increas eur mn eur mn', 'net interest incom eur mn eur mn', 'net interest incom eur mn eur mn', 'net sale veget oil busi rose eur mn eur mn', 'nokia multimedia net sale total eur bn correspond period', 'oper incom rose eur mn eur mn', 'oper profit kauppalehti group rose eur mn eur mn marketplac eur mn eur mn third quarter', 'oper profit rose eur mn eur mn', 'oper profit rose mln eur mln', 'oper profit rose eur mn eur mn correspond period', 'oper profit rose eur mn eur correspond period', 'oper profit rose eur mn eur mn correspond period', 'oper profit rose eur mn eur mn correspond period', 'oper profit rose eur mn eur mn', 'oper profit rose eur mn eur mn correspond period', 'oper profit rose eur mn eur mn', 'oper profit rose eur mn eur mn', 'oper profit rose eur mn eur mn correspond period', 'oper profit rose eur eur year earlier', 'oper profit surg eur eur', 'oper profit total eur mn slightli eur mn correspond period', 'oper profit total eur mn eur mn', 'oper profit eur mn eur mn', 'oper profit eur mn eur mn', 'order intak grew year year year year respect eur million eur billion respect januari septemb juli septemb period', 'order receiv grew year year eur', 'orion pharma oper profit increas', 'passeng volum rose account period', 'passeng relat revenu rose eur mn eur mn', 'press releas octob ruukki sign contract deliv instal steel structur bridg kyronsalmi strait savonlinna finland', 'pretax profit rose eur mn eur mn correspond period', 'pretax profit rose eur mn eur correspond period', 'pretax profit rose eur mn eur mn', 'pre tax profit total eur mn eur mn', 'previous compani guid ebit sale growth pct pct respect year', 'previous compani estim oper profit reach level', 'profit period total eur mn eur mn correspond period', 'profit period eur mn eur mn', 'profit period eur mn eur mn', 'revenu grew percent x ac billion us billion', 'revenu juli septemb grew percent euro million year earlier compani said thursday', 'revenu time grew percent million euro', 'ruukki sign contract deliv instal steel structur bridg kyronsalmi strait savonlinna finland', 'sale latin america increas eur mn total mn mobil devic sold area repres increas correspond period', 'sale cloth develop best', 'sanoma magazin finland net sale grew eur mn eur mn', 'satama net profit third quarter rose euro euro period', 'section region news demand finnair asian traffic measur passeng kilomet august compar last year', 'svyturi uteno alu control nordic group baltic beverag hold bbh post percent growth beer sale januari septemb million liter', 'would increas estim sale million last year', 'agreement expand tekla structur scope use bridg design', 'aim increas sale least one fifth', 'chain post sale million euro full rise percent year year', 'compani expect net sale increas', 'compani expect net sale first half reach previou year level', 'compani process build new fleet place order p max tanker dwt', 'compani oper incom ebit total eur mn eur mn year year', 'ep outlook increas pct pct', 'fair valu invest properti total eur mn eur mn', 'finnish govern announc wednesday sold percent stake chemic fertil group kemira oyj x ac million us million send compani share price percent', 'firm gener sale mln eur', 'german compani also sign code share agreement anoth oneworld member american airlin inc part us base amr corp nyse amr', 'helsinki base compani also own salomon atom suunto brand said net profit rose percent three month dec x ac million us million x ac million year earlier', 'increas capit stock regist finnish trade regist novemb', 'oper profit grain trade increas eur mn eur mn', 'stock rose second day wednesday bring two day rise gbx', 'stock rose third day tuesday bring three day rise gbx', 'transact line aspo strategi expand baltic sea region eastern market', 'transact would increas earn per share first quarter eur', 'recoveri base metal price increas demand metal china howev', 'new represent extend comptel global presenc total countri serv custom countri worldwid', 'tietoen use nokia intellisync mobil suit wireless email calendar devic manag capabl compani extend servic custom', 'total oper revenu grew year year eur', 'vacon cash flow oper grew eur mn eur mn year ago', 'vacon suppli drive ruselprom power rang kw mw', 'also strengthen exist partnership cybercom say telest cto esko myllyla', 'via satlan acquisit telest plan expand market presenc video servic partner cabl oper broadcast iptv servic provid', 'acquisit compani expand offer north central south america said', 'extens new contract eight engin plant produc mw said', 'yit say acquisit part strategi expans central eastern european market', 'baswar product sale grew strongli financi period percent', 'second quarter firstquart growth net sale sinc third quarter said magnu rosen ramir ceo', 'transact strengthen posit design brand good said fiskar presid ceo heikki allonen point two group rel overlap oper', 'februari finnish textil cloth compani marimekko oyj hel mmo v said today preliminari oper profit grew eur eur', 'finnish componenta publish new long term strategi period aim grow togeth custom', 'finnish larox sign contract talvivaara project deliveri filter talvivaara nickel mine sotkamo finland', 'affecto expect net sale whole increas level reach eur million', 'cash flow oper rose eur mn eur mn', 'commiss incom rose eur mn eur mn', 'componenta object agreement increas busi exist product line', 'earn per share januari june eur increas year year eur', 'earn per share ep rose eur eur', 'elisa said mobil subscript grew percent mainli custom adopt call third gener mobil technolog', 'ep quarter came eur eur year ago ahead forecast eur', 'ep grew eur eur', 'export grew percent million liter', 'finnish invest group panostaja oyj said net profit went mln euro mln fiscal end octob mln euro mln period fiscal', 'finnish metal compon supplier componenta oyj said net profit went mln euro mln mln euro mln', 'finnish silicon wafer technolog compani okmet oyj omx helsinki okm v report thursday octob oper profit eur januari septemb eur correspond period', 'fiskar brand report net sale eur mn eur mn', 'geosentr oyj geosolut busi unit gypsii mobil digit lifestyl applic geo mobil social network platform sign agreement nanj mynet make gypsii mobil social network platform avail custom china mobil', 'helsinki afx outokumpu technolog said sign mln eur agreement mongolia erdenet mine corpor engin first hydrocopp plant built erdenet mine site', 'howev proport paid stand order grew', 'addit demand finland export line stone product also increas', 'januari septemb group net sale continu oper rose eur mn eur mn correspond period', 'juli septemb yit net sale increas eur mn compar eur mn correspond period', 'report period net sale rose year year eur due busi acquisit realiz first half effect eur review period', 'report period compani oper profit grew eur million', 'last year net sale rose eur million eur million', 'last year compani rais turnov approxim million lita eur mln million lita', 'adp news nov finnish ac drive manufactur vacon oyj omx vac v said today set new repres offic romania ukrain serv grow market eastern southeastern europ', 'marimekko group full year net sale estim increas', 'net sale surg eur million', 'net sale went year year eur million affect busi acquisit realiz previou financi period effect eur million review period', 'nevertheless market share rose percent percent year earlier', 'nokia world largest mobil phone manufactur china postel china largest mobil phone distributor long stand partnership continu grow stronger time', 'octob decemb sale mln eur pct increas year year', 'olvi control percent stake raguti le coq said annual report publish earlier year lithuanian breweri sale reach million euro last year rise percent million euro', 'olvi expect sale market share increas first quarter', 'olvi target strengthen market share soft drink miner water cider long drink energi drink', 'oper profit increas eur mn eur mn correspond period', 'oper profit asian plant grew markedli', 'oper profit total eur mn eur mn', 'oper profit total eur mn eur mn year year', 'product capac increas tonn per year raw materi continu recycl paper board', 'profit period increas eur mn eur mn', 'profit per share eur eur', 'return capit employ rose percentag point', 'revenu juli septemb grew percent euro billion finnish compani said thursday', 'revenu grew percent euro million us million euro million', 'ruukki order book end year year quarter quarter', 'ruukki sign contract norwegian compani veidekk entreprenor', 'sale finland rose intern growth', 'sale secur system packag increas slightli', 'stora enso third quarter pre tax profit doubl eur mn', 'strongest growth seen new market russia czech republ slovakia', 'airlin order nine airbu aircraft deliveri becom lead airlin latest variant roll royc trent seri engin call', 'compani intensifi smelter oper increas annual product capac tonn copper', 'compani market share continu increas', 'compani schedul traffic measur revenu passeng kilometr rpk grew nearli passeng carri schedul flight februari', 'compani said invest new market area result sale increas sweden poland russia lithuania', 'dispos autotank also strengthen aspo capit structur comment gustav nyberg ceo aspo', 'earn per share quarter came eur eur quarter year earlier', 'econom occup rate sponda properti portfolio rose', 'finnish supplier bss oss va telecom oper tecnotre receiv expans order worth total us mn converg charg next gener messag solut latin america compani announc without specifi oper place order', 'group month oper profit grew percent million euro', 'growth activ talentum custom start end continu report period compani state', 'growth net sale first half compar first half', 'pretax profit group life insur busi increas eur million eur million', 'pretax profit group life insur busi increas eur eur', 'total deliveri volum paper busi tonn tonn', 'valu firm forestri hold increas sek bn', 'new deal strengthen partnership telemig celular tecnomen start sinc begin telemig prepaid oper', 'turnov rose eur eur', 'xerox stora enso team tailor igen short run demand packag market', 'yit construct town riihim ki sign leas contract wherebi town occupi travel centr offic facil', 'upgrad intend rais network capac mhz mhz sever citi enabl bi direct servic digit televis well broadband data', 'finnish compani stockmann sign contract compani technopoli', 'accord notic skandinaviska enskilda banken ab publ helsinki branch august divest total alma media share ilkka yhtyma oyj kaleva kustannu oy condit agreement made compani juli fulfil', 'previous announc geosentr oyj enter financ agreement lead investor june enabl compani receiv financ aggreg amount', 'time market autom liquid handl devic alreadi larger pipett accord biohit', 'efor ceo reijo maihaniemi said compani develop alreadi deliv power suppli unit respect system base technolog chines sector compani zte corp', 'finnish talvivaara mine co hel tlv v said thursday pick bofa merril lynch jpmorgan nyse jpm joint bookrunn plan issu convert note worth eur usd', 'lead product turn increas tonn would twofold increas current capac level zahariev said', 'lemminkainen oyj said sign credit agreement nordea bank sto nda pohjola bank hel poh sampo bank hel sama svenska handelsbanken sto shb', 'pohjola could increas stake', 'scandic feed also diversifi tosno product portfolio', 'separ yit corpor austrian firm e ag last week sign agreement sale e build system servic busi germani austria poland czech republ hungari romania eur mln', 'agreement jm one seri contract teliasonera sign recent month residenti construct real estat manag compani sweden', 'compani intend rais product capac', 'estim valu contract eur vaisala headquart helsinki finland develop manufactur electron measur system meteorolog environment scienc traffic industri', 'mall part baltic pearl develop project citi st petersburg baltic pearl cjsc subsidiari shanghai foreign joint invest compani develop home peopl', 'new facil known technopoli pulkovo introduc russian market entir new concept creat oper grow commerci fund scienc technolog park support growth knowledg intens compani', 'therebi compani expand offer north central south america', 'member partner use mostli appar increas effici result servic observ perttu puro tradeka', 'vacon control compani via invest fund power fund eur usd', 'order includ wartsila order book second quarter compani ad', 'manag decid end increas cathod copper capac', 'complet name sharehold otto henrik bernhard nyberg inform amount share transfer correspond total number share aspo plc', 'data process unit collect data calcul rvr valu provid data user via variou interfac', 'tinyurl link take user scam site promis user earn thousand dollar becom googl nasdaq goog cash advertis', 'alexandria va march pertti salmi hanna vuolteenaho oulu finland sami viitasaari ii finland develop ornament design handset u patent trademark offic announc', 'alexandria va oct markka oksanen harald kaaja helsinki finland juha salokannel kangasala finland arto palin viiala finland develop system provid commun secur', 'earlier report nokian tyre build plant town vsevolozhsk russia leningrad region annual product capac million tire', 'biohit inc expand mline famili pipettor addit new ml volum rang', 'capman finnish altern asset manag made acquisit helsinki focus vehicl real estat fund fund bought seven stori offic built underw refurbish end', 'compar ftse index rose point day rel price chang', 'compar ftse index rose point day rel price chang', 'compar ftse index rose point day rel price chang', 'deliveri start later volum increas year', 'finland nokian tyre kazakhstan ordabasi corpor sign agreement build plant astana produc car tire ordabasi chairman dinmukhamet idrisov said press confer', 'finnish busi softwar group affectogenimap oyj said sign agreement acquir share swedish sector compani intellibi ab mln euro mln debt free basi', 'finnish heat retain fireplac maker tulikivi oyj said august local tile stove util ceram subsidiari kermansavi oy merg tulikivi mean absorpt order streamlin latest corpor structur', 'finnish silicon wafer manufactur okmet oyj said june sign agreement nordea bank finland plc local subsidiari swedish commerci bank nordea bank ab refin okmet syndic bank facil amount mln euro mln', 'furthermor bung also sign licens agreement sunnuntai carlshamn mejeri brand', 'german commerzbank ag hamburg branch us jp morgan nyse jpm particip arrang dutch ing am inga co arrang', 'april nest separ parent compani finnish energi compani fortum becam list helsinki stock exchang', 'russia raisio food divis home market stretch way vladivostok', 'septemb finnish group agre buy danish compani rose poultri eur combin cash stock', 'increas number share base option right grant manag compani stock option plan', 'plan expand product portfolio harbor segment chief execut pekka lundmark told financi time deutschland', 'offic worldwid pct net sale gener outsid finland', 'branch finland annual revenu finland', 'kauko telko ltd press releas telko group kauko telko expand strateg partnership bp industri lubric servic bp il acquir total ownership bp swedish retail compani molub alloy ab', 'milan afx italian ship group grimaldi increas stake finnish compani finnlin pct pct held june accord news agenc ansa', 'nokia messag enabl custom receiv e mail e mail account mobil phone support pop imap e mail servic', 'product capac rise gradual tonn tonn', 'ramir danish subsidiari ramir today sign agreement acquir busi asset machineri rental compani jydsk materiel udlejn locat west jutland', 'share repurchas helsinki stock exchang behalf sampo plc dansk bank helsinki branch', 'solidium pick tikkurila share dividend book valu eur per share', 'takoma carri transact acquir entir share capit moventa parkano oy run factori parkano southern finland', 'agreement provid switch doubl convert capac whilst open manufactur locat china', 'build owner develop sun hung kai properti group one largest properti compani hong kong develop type premium residenti commerci project sale invest', 'compani aim final negoti sign contract start octob', 'compani sign letter intent sale septemb envisag seal actual agreement januari', 'compani also said novemb real estat fund ky sign agreement finnish window maker fenestra oy build window plant forssa southern finland', 'compani commit expand apollo portfolio', 'contract sign yesterday run five year includ two year extens option', 'contract cover instal train start servic', 'contract valu amount eur compani ad', 'contract sign acquir uranium produc sotkamo nickel zinc mine eastern finland own talvivaara', 'expand agreement cover sale market distribut benefon navig locat devic china', 'omx nordic omxn index compris trade nordic stock nasdaq omx exchang close point wednesday', 'omx nordic omxn index compris trade nordic stock nasdaq omx exchang close point friday', 'tietoen sign agreement acquir indian research develop r servic provid turnkey softwar solut develop fortuna technolog pvt ltd mln euro mln septemb', 'number one mean creat ad valu stakehold everyth', 'term take agreement talvivaara cameco provid front invest maximum million cover construct cost uranium extract circuit', 'vaisala oyj press releas septemb vaisala sign contract sell oxygen measur technolog busi sick maihak gmbh', 'beij xfn asia hong kong list standard charter bank said sign china mobil phone dealer financ agreement nokia make first foreign bank offer financ countri small medium enterpris lr', 'provid summari medic equip pipelin product compani develop', 'cours talk come new project involv materi handl konecran presid ceo pekka lundmark said ask whether talk relianc industri suppli equip upcom refineri jamnagar', 'lidsko pivo invest program forese integr modern product updat transport logist infrastructur develop new market instrument mikshi said', 'residentialconstruct particular pick sever market', 'ruukki includ djsi world second year run european djsi stoxx third year run', 'sale oxygen measur busi strengthen goal focu chosen market segment', 'correspond increas euro ahlstrom share capit enter trade regist today', 'august latvija finieri order product line new green veneer mill built ukmerg central lithuania', 'finnish hous manufactur target strongli grow one famili hous market russia', 'transact alma media rais stake talentum share vote right', 'aldata said still number oper aspect defin microsoft detail product market initi result agreement avail later date', 'alexandria va juli hannu kahonen juuka finland develop ornament design handl fire pit door u patent trademark offic announc', 'alexandria va may kenneth bower vista calif develop ornament design handset u patent trademark offic announc', 'largest elev market world chines output elev continu rise unit yr yr', 'aspocomp intend set plant manufactur print circuit board invest rs crore', 'baltic pearl cjsc subsidiari shanghai foreign joint invest compani develop project st petersburg compris million squar meter residenti space two hospit sever school nurseri', 'biohit oyj develop manufactur market liquid handl product diagnost test system use research healthcar industri laboratori', 'call switchboard directori servic decreas significantli sinc employe date contact inform colleagu custom phone place call directli', 'cargotec share capit increas total euro', 'cargotec share capit increas total eur', 'compar ftse index rose point day rel price chang', 'componenta increas stake turkish steel compani dokta dokumculuk ticaret sanayi pct stake march', 'earn per share ep seen eur eur', 'estonia beer market overal grew three percent last year million liter', 'finnish food compani raisio oyj hel raivv said friday wrap divest margarin oper us sector player bung ltd nyse bg eur usd', 'finnish lift equip maker konecran hel kcr v said juli rais stake austrian manipul maker ac konecran bought german sector player knight europ', 'finnish paper maker upm kymmen corp monday announc sale wrap unit walki wisa capman invest group move concentr core busi', 'follow increas compani eur tm capit total mln romanian lei mln mln euro', 'helsinki afx kci konecran said rais stake mmh hold inc owner us base morri materi handl pct pct', 'gener net sale eur million usd', 'august latvija finieri order product line new green veneer mill built ukmerg lithuania', 'deliv differ user experi enabl us widen market address', 'jacob support storengi invest develop storag site sinc owner engin', 'adpnew jun finnish stainless steel maker outokumpu oyj hel v said yesterday sign three year eur million usd bn revolv credit facil', 'increas net sale due acquisit swedish silva produc garden tool boat', 'mr ashley deputi execut chairman sport direct sold pc stake compani pound time float']\n"
          ]
        }
      ]
    },
    {
      "cell_type": "markdown",
      "source": [
        "**Xây dựng danh sách các từ phổ biến nhất**"
      ],
      "metadata": {
        "id": "4s4D_o1PrLJk"
      }
    },
    {
      "cell_type": "code",
      "source": [
        "word2count = {}\n",
        "for data in corpous:\n",
        "    words = nltk.word_tokenize(data)\n",
        "    for word in words:\n",
        "        if word not in word2count.keys():\n",
        "            word2count[word] = 1\n",
        "        else:\n",
        "            word2count[word] += 1"
      ],
      "metadata": {
        "id": "W996E5h5U_y6"
      },
      "execution_count": 10,
      "outputs": []
    },
    {
      "cell_type": "code",
      "source": [
        "print(word2count['accord'])\n",
        "print(word2count['gran'])\n",
        "print(word2count['compani'])"
      ],
      "metadata": {
        "colab": {
          "base_uri": "https://localhost:8080/"
        },
        "id": "zP55UHqStaFa",
        "outputId": "085fd52d-1d3b-4c66-a5c9-00d3ff4ff99d"
      },
      "execution_count": 11,
      "outputs": [
        {
          "output_type": "stream",
          "name": "stdout",
          "text": [
            "135\n",
            "2\n",
            "973\n"
          ]
        }
      ]
    },
    {
      "cell_type": "code",
      "source": [
        "print(len(word2count))"
      ],
      "metadata": {
        "colab": {
          "base_uri": "https://localhost:8080/"
        },
        "id": "JzvefkAUVECk",
        "outputId": "70d98b2f-3821-4ee3-db29-612c1e1f37fd"
      },
      "execution_count": 12,
      "outputs": [
        {
          "output_type": "stream",
          "name": "stdout",
          "text": [
            "6696\n"
          ]
        }
      ]
    },
    {
      "cell_type": "code",
      "source": [
        "#Giới hạn 500 từ phổ biến nhất để đảm bảo tốc độ thực thi thuật toán chấp nhận được, \n",
        "#nếu giữ nguyên 6696 từ sẽ gặp vấn đề về thời gian thực thi thuật toán.\n",
        "import heapq\n",
        "freq_words = heapq.nlargest(500, word2count, key=word2count.get)"
      ],
      "metadata": {
        "id": "j4tBbMX_YMtW"
      },
      "execution_count": 13,
      "outputs": []
    },
    {
      "cell_type": "code",
      "source": [
        "print(freq_words)"
      ],
      "metadata": {
        "colab": {
          "base_uri": "https://localhost:8080/"
        },
        "id": "7kRi3IMTtc9B",
        "outputId": "dd28bead-fa8f-48c6-92e3-6beca519b2ed"
      },
      "execution_count": 14,
      "outputs": [
        {
          "output_type": "stream",
          "name": "stdout",
          "text": [
            "['eur', 'compani', 'mn', 'oper', 'said', 'finnish', 'sale', 'year', 'million', 'share', 'profit', 'net', 'finland', 'servic', 'group', 'product', 'market', 'busi', 'mln', 'new', 'period', 'quarter', 'total', 'euro', 'oyj', 'increas', 'also', 'develop', 'includ', 'first', 'contract', 'solut', 'helsinki', 'report', 'invest', 'compar', 'manag', 'provid', 'bank', 'base', 'loss', 'industri', 'corpor', 'manufactur', 'unit', 'technolog', 'order', 'today', 'plant', 'mobil', 'custom', 'expect', 'nokia', 'system', 'financi', 'per', 'accord', 'use', 'percent', 'correspond', 'project', 'agreement', 'result', 'hel', 'price', 'build', 'v', 'construct', 'valu', 'month', 'one', 'capit', 'plan', 'well', 'end', 'network', 'start', 'stock', 'rose', 'part', 'pct', 'board', 'paper', 'oy', 'area', 'offer', 'announc', 'second', 'januari', 'two', 'equip', 'would', 'usd', 'process', 'continu', 'omx', 'employe', 'decreas', 'gener', 'estim', 'earlier', 'sign', 'septemb', 'russia', 'line', 'third', 'design', 'last', 'make', 'amount', 'term', 'director', 'maker', 'deal', 'acquisit', 'countri', 'acquir', 'annual', 'ceo', 'offic', 'us', 'complet', 'softwar', 'number', 'secur', 'media', 'plc', 'engin', 'posit', 'cost', 'electron', 'global', 'issu', 'work', 'suppli', 'commun', 'facil', 'real', 'exchang', 'hold', 'data', 'approxim', 'right', 'brand', 'current', 'time', 'news', 'releas', 'inform', 'peopl', 'growth', 'improv', 'billion', 'phone', 'deliv', 'ltd', 'revenu', 'sell', 'trade', 'may', 'subsidiari', 'lead', 'stake', 'octob', 'applic', 'option', 'produc', 'transact', 'addit', 'sharehold', 'june', 'march', 'sector', 'long', 'retail', 'earn', 'say', 'howev', 'target', 'close', 'world', 'half', 'employ', 'largest', 'steel', 'fell', 'april', 'devic', 'negoti', 'oil', 'high', 'activ', 'intern', 'nordic', 'cover', 'swedish', 'power', 'made', 'measur', 'distribut', 'aim', 'relat', 'energi', 'state', 'capac', 'deliveri', 'store', 'support', 'remain', 'fund', 'locat', 'three', 'publish', 'enabl', 'follow', 'china', 'cut', 'nine', 'expand', 'own', 'food', 'control', 'materi', 'chang', 'e', 'baltic', 'cash', 'machineri', 'region', 'mill', 'day', 'non', 'volum', 'august', 'presid', 'transfer', 'consum', 'meet', 'purchas', 'divis', 'nordea', 'februari', 'ep', 'sweden', 'investor', 'major', 'local', 'vote', 'launch', 'lower', 'baswar', 'supplier', 'take', 'properti', 'rate', 'handl', 'program', 'europ', 'structur', 'ruukki', 'interest', 'establish', 'award', 'tax', 'repres', 'stora', 'member', 'avail', 'place', 'level', 'ad', 'partner', 'headquart', 'upm', 'ship', 'corp', 'combin', 'cent', 'inc', 'citi', 'cooper', 'around', 'rang', 'russian', 'agre', 'juli', 'novemb', 'account', 'signific', 'receiv', 'post', 'good', 'center', 'elcoteq', 'enso', 'due', 'alreadi', 'strategi', 'dividend', 'personnel', 'turnov', 'sinc', 'set', 'capman', 'buy', 'hous', 'perform', 'disclos', 'machin', 'propos', 'st', 'insur', 'six', 'north', 'yit', 'pharmaceut', 'sport', 'save', 'demand', 'l', 'bn', 'list', 'effici', 'next', 'instal', 'effect', 'competit', 'lay', 'n', 'shop', 'fourth', 'fiskar', 'previous', 'full', 'firm', 'approv', 'financ', 'strengthen', 'chain', 'petersburg', 'open', 'friday', 'estat', 'grew', 'metal', 'forest', 'site', 'execut', 'qualiti', 'situat', 'com', 'concern', 'print', 'credit', 'four', 'g', 'decemb', 'commerci', 'alma', 'subscript', 'ac', 'america', 'mainten', 'press', 'p', 'call', 'telecom', 'sampo', 'mr', 'item', 'person', 'move', 'user', 'central', 'co', 'asset', 'chairman', 'detail', 'staff', 'internet', 'traffic', 'carri', 'model', 'electr', 'focu', 'rental', 'metso', 'head', 'fix', 'import', 'via', 'built', 'packag', 'week', 'give', 'grow', 'analyst', 'pretax', 'aspo', 'transport', 'futur', 'becom', 'come', 'kemira', 'u', 'segment', 'serv', 'finnair', 'regist', 'begin', 'sever', 'recent', 'name', 'cargotec', 'implement', 'record', 'job', 'pulp', 'respons', 'need', 'margin', 'teliasonera', 'higher', 'subscrib', 'sanoma', 'public', 'previou', 'initi', 'research', 'sold', 'b', 'point', 'respect', 'stockmann', 'european', 'worth', 'ab', 'decid', 'owner', 'ahlstrom', 'differ', 'experi', 'strong', 'present', 'organ', 'www', 'handset', 'telest', 'beer', 'tonn', 'export', 'main', 'estonia', 'whole', 'adp', 'govern', 'schedul', 'joint', 'home', 'creat', 'logist', 'decis', 'reduct', 'recur', 'poyri', 'content', 'statement', 'nest', 'index', 'reach', 'afx', 'life', 'onlin', 'passeng', 'uk', 'infrastructur', 'flow', 'ago', 'held', 'water', 'chief', 'larg', 'aspocomp', 'consolid', 'park', 'incom', 'wednesday', 'q', 'outotec', 'exist', 'enter', 'pohjola', 'strateg', 'consult', 'resourc', 'scanfil', 'exclud', 'squar', 'rais', 'incap']\n"
          ]
        }
      ]
    },
    {
      "cell_type": "code",
      "source": [
        "print(len(freq_words))"
      ],
      "metadata": {
        "colab": {
          "base_uri": "https://localhost:8080/"
        },
        "id": "9Lw4g9iRRa4Z",
        "outputId": "ed47d525-4a63-49ac-b815-3f6db1d8769d"
      },
      "execution_count": 15,
      "outputs": [
        {
          "output_type": "stream",
          "name": "stdout",
          "text": [
            "500\n"
          ]
        }
      ]
    },
    {
      "cell_type": "markdown",
      "source": [
        "**Xây dựng mô hình Bag of Words (BOW)**"
      ],
      "metadata": {
        "id": "EZ2pQEWbtgyi"
      }
    },
    {
      "cell_type": "code",
      "source": [
        "X = []\n",
        "for data in corpous:\n",
        "    vector = []\n",
        "    for word in freq_words:\n",
        "        if word in nltk.word_tokenize(data):\n",
        "            vector.append(1)\n",
        "        else:\n",
        "            vector.append(0)\n",
        "    X.append(vector)\n",
        "X = np.asarray(X)"
      ],
      "metadata": {
        "id": "lT9ZcG0m8mFF"
      },
      "execution_count": 16,
      "outputs": []
    },
    {
      "cell_type": "code",
      "source": [
        "print(X)"
      ],
      "metadata": {
        "colab": {
          "base_uri": "https://localhost:8080/"
        },
        "id": "o2cCC0AwtuWR",
        "outputId": "bbe11f51-4adc-4819-f2fc-0171e2dfc294"
      },
      "execution_count": 17,
      "outputs": [
        {
          "output_type": "stream",
          "name": "stdout",
          "text": [
            "[[0 1 0 ... 0 0 0]\n",
            " [0 1 0 ... 1 0 0]\n",
            " [0 1 0 ... 0 0 0]\n",
            " ...\n",
            " [1 0 1 ... 0 0 0]\n",
            " [1 0 1 ... 0 0 0]\n",
            " [0 0 0 ... 0 0 0]]\n"
          ]
        }
      ]
    },
    {
      "cell_type": "code",
      "source": [
        "print(len(X))"
      ],
      "metadata": {
        "colab": {
          "base_uri": "https://localhost:8080/"
        },
        "id": "CQK83xrqXVIX",
        "outputId": "c7ef9919-cea8-46b5-d95b-91f6692d1d89"
      },
      "execution_count": 18,
      "outputs": [
        {
          "output_type": "stream",
          "name": "stdout",
          "text": [
            "4846\n"
          ]
        }
      ]
    },
    {
      "cell_type": "markdown",
      "source": [
        "**Chuẩn bị tập dữ liệu train và tập dữ liệu test**"
      ],
      "metadata": {
        "id": "SwhJBj-Jt6fa"
      }
    },
    {
      "cell_type": "code",
      "source": [
        "y = df.target"
      ],
      "metadata": {
        "id": "Oovl88NlTNZZ"
      },
      "execution_count": 19,
      "outputs": []
    },
    {
      "cell_type": "code",
      "source": [
        "print(y)"
      ],
      "metadata": {
        "colab": {
          "base_uri": "https://localhost:8080/"
        },
        "id": "t2sAv6T6TO0A",
        "outputId": "7d5d1c3c-c705-4662-8f55-5ecf6623c09c"
      },
      "execution_count": 20,
      "outputs": [
        {
          "output_type": "stream",
          "name": "stdout",
          "text": [
            "0       0\n",
            "1       0\n",
            "2       1\n",
            "3       2\n",
            "4       2\n",
            "       ..\n",
            "4841    1\n",
            "4842    0\n",
            "4843    1\n",
            "4844    1\n",
            "4845    1\n",
            "Name: target, Length: 4846, dtype: int64\n"
          ]
        }
      ]
    },
    {
      "cell_type": "code",
      "source": [
        "from sklearn.model_selection import train_test_split\n",
        "X_train,X_test,y_train,y_test = train_test_split(X,y,test_size=0.2,random_state=11)"
      ],
      "metadata": {
        "id": "wDUNkvm0TgfY"
      },
      "execution_count": 21,
      "outputs": []
    },
    {
      "cell_type": "markdown",
      "source": [
        "**Tiến hành phân lớp dữ liệu với mô hình SVM và Logistic Regression**"
      ],
      "metadata": {
        "id": "9vze6016uZQa"
      }
    },
    {
      "cell_type": "code",
      "source": [
        "import nltk.metrics\n",
        "from sklearn import metrics\n",
        "from sklearn.linear_model import LogisticRegression\n",
        "from sklearn.svm import SVC\n",
        "from nltk.metrics import ConfusionMatrix\n",
        "from nltk.metrics.scores import (precision, recall)"
      ],
      "metadata": {
        "id": "QNVLQxUURfcC"
      },
      "execution_count": 22,
      "outputs": []
    },
    {
      "cell_type": "code",
      "source": [
        "# Xây dựng mô hình Logistic Regression\n",
        "lr = LogisticRegression(max_iter=300)\n",
        "\n",
        "lr.fit(X_train,y_train)\n",
        "\n",
        "lr_pred = lr.predict(X_test)"
      ],
      "metadata": {
        "id": "W6pvyvl9RmDJ"
      },
      "execution_count": 23,
      "outputs": []
    },
    {
      "cell_type": "code",
      "source": [
        "cm = ConfusionMatrix(y_test, lr_pred)\n",
        "print(cm)"
      ],
      "metadata": {
        "colab": {
          "base_uri": "https://localhost:8080/"
        },
        "id": "boBeEj9iqxYh",
        "outputId": "e5348d06-9287-4f88-a003-25ddf85ec57f"
      },
      "execution_count": 24,
      "outputs": [
        {
          "output_type": "stream",
          "name": "stdout",
          "text": [
            "  |   0   1   2   3   4 |\n",
            "--+---------------------+\n",
            "0 |<502> 12  56   .   . |\n",
            "1 |  46 <51> 16   .   . |\n",
            "2 | 106  11<170>  .   . |\n",
            "3 |   .   .   .  <.>  . |\n",
            "4 |   .   .   .   .  <.>|\n",
            "--+---------------------+\n",
            "(row = reference; col = test)\n",
            "\n"
          ]
        }
      ]
    },
    {
      "cell_type": "code",
      "source": [
        "sns.kdeplot(data = y_test, color=\"b\", label = \"Thực tế\")\n",
        "sns.kdeplot(data = lr_pred, color=\"r\", label = \"Dự báo\")\n",
        "plt.title('So sánh thực tế và dự báo')\n",
        "plt.legend()\n",
        "plt.show()"
      ],
      "metadata": {
        "colab": {
          "base_uri": "https://localhost:8080/",
          "height": 295
        },
        "id": "YMD9sZ4ft4E8",
        "outputId": "4fb42e06-528d-4efa-c9df-df87d9c5d07d"
      },
      "execution_count": 25,
      "outputs": [
        {
          "output_type": "display_data",
          "data": {
            "text/plain": [
              "<Figure size 432x288 with 1 Axes>"
            ],
            "image/png": "[encoded data removed]"
          },
          "metadata": {
            "needs_background": "light"
          }
        }
      ]
    },
    {
      "cell_type": "code",
      "source": [
        "accuracy_score1 = nltk.accuracy(y_test, lr_pred)\n",
        "print(\"Accuracy of model \",accuracy_score1)"
      ],
      "metadata": {
        "colab": {
          "base_uri": "https://localhost:8080/"
        },
        "id": "eRqPyE0JH9GM",
        "outputId": "6ee2b793-a908-49cd-9c6b-45cd7ad963b0"
      },
      "execution_count": 26,
      "outputs": [
        {
          "output_type": "stream",
          "name": "stdout",
          "text": [
            "Accuracy of model  0.7453608247422681\n"
          ]
        }
      ]
    },
    {
      "cell_type": "code",
      "source": [
        "svc = SVC(C=1.0, kernel='linear', degree=3, gamma='auto')\n",
        "\n",
        "svc.fit(X_train,y_train)\n",
        "\n",
        "svc_pred = svc.predict(X_test)"
      ],
      "metadata": {
        "id": "H3o-WP5vFbgr"
      },
      "execution_count": 27,
      "outputs": []
    },
    {
      "cell_type": "code",
      "source": [
        "cm = ConfusionMatrix(y_test, svc_pred)\n",
        "print(cm)"
      ],
      "metadata": {
        "colab": {
          "base_uri": "https://localhost:8080/"
        },
        "id": "kgh6KghMqzyT",
        "outputId": "4ed4185f-6239-4a3c-8505-f33bfe7c0463"
      },
      "execution_count": 28,
      "outputs": [
        {
          "output_type": "stream",
          "name": "stdout",
          "text": [
            "  |   0   1   2   3   4 |\n",
            "--+---------------------+\n",
            "0 |<497> 17  56   .   . |\n",
            "1 |  47 <48> 18   .   . |\n",
            "2 | 110  16<161>  .   . |\n",
            "3 |   .   .   .  <.>  . |\n",
            "4 |   .   .   .   .  <.>|\n",
            "--+---------------------+\n",
            "(row = reference; col = test)\n",
            "\n"
          ]
        }
      ]
    },
    {
      "cell_type": "code",
      "source": [
        "sns.kdeplot(data = y_test, color=\"b\", label = \"Thực tế\")\n",
        "sns.kdeplot(data = svc_pred, color=\"r\", label = \"Dự báo\")\n",
        "plt.title('So sánh thực tế và dự báo')\n",
        "plt.legend()\n",
        "plt.show()"
      ],
      "metadata": {
        "colab": {
          "base_uri": "https://localhost:8080/",
          "height": 295
        },
        "id": "38VrM8a2txjQ",
        "outputId": "2b3d2da4-a725-4355-d9cf-6d6c3b6fd99e"
      },
      "execution_count": 29,
      "outputs": [
        {
          "output_type": "display_data",
          "data": {
            "text/plain": [
              "<Figure size 432x288 with 1 Axes>"
            ],
            "image/png": "[encoded data removed]"
          },
          "metadata": {
            "needs_background": "light"
          }
        }
      ]
    },
    {
      "cell_type": "code",
      "source": [
        "accuracy_score2 = nltk.accuracy(y_test, svc_pred)\n",
        "print(\"Accuracy of model \",accuracy_score2)"
      ],
      "metadata": {
        "colab": {
          "base_uri": "https://localhost:8080/"
        },
        "id": "gYGOt54OM_kp",
        "outputId": "3b363cd3-05d9-4f77-986c-0bd103e4d0a3"
      },
      "execution_count": 30,
      "outputs": [
        {
          "output_type": "stream",
          "name": "stdout",
          "text": [
            "Accuracy of model  0.7278350515463917\n"
          ]
        }
      ]
    },
    {
      "cell_type": "code",
      "source": [
        "table = {'Logistic Regression':accuracy_score1, 'SVC':accuracy_score2}\n",
        "dftable = pd.DataFrame(table, index = ['Accuracy Score'])\n",
        "print(dftable)"
      ],
      "metadata": {
        "colab": {
          "base_uri": "https://localhost:8080/"
        },
        "id": "_P9gS55TQVTg",
        "outputId": "2dbb7e3d-b20a-4de4-953a-01833977fa2f"
      },
      "execution_count": 31,
      "outputs": [
        {
          "output_type": "stream",
          "name": "stdout",
          "text": [
            "                Logistic Regression       SVC\n",
            "Accuracy Score             0.745361  0.727835\n"
          ]
        }
      ]
    },
    {
      "cell_type": "markdown",
      "source": [
        "**Xây dựng hàm đánh giá Precision, Recall và F1-score**"
      ],
      "metadata": {
        "id": "8x3PNhCvHD8H"
      }
    },
    {
      "cell_type": "markdown",
      "source": [
        "Xây dựng các hàm tính toán True Positives, True Negatives, False Positives and False Negatives"
      ],
      "metadata": {
        "id": "9plvuwTMHIxF"
      }
    },
    {
      "cell_type": "code",
      "source": [
        "def true_positive(y_true, y_pred):   \n",
        "    tp = 0   \n",
        "    for yt, yp in zip(y_true, y_pred):       \n",
        "        if yt == 1 and yp == 1:\n",
        "            tp += 1    \n",
        "    return tp\n",
        "\n",
        "def true_negative(y_true, y_pred):   \n",
        "    tn = 0   \n",
        "    for yt, yp in zip(y_true, y_pred):       \n",
        "        if yt == 0 and yp == 0:\n",
        "            tn += 1          \n",
        "    return tn\n",
        "\n",
        "def false_positive(y_true, y_pred):   \n",
        "    fp = 0    \n",
        "    for yt, yp in zip(y_true, y_pred):       \n",
        "        if yt == 0 and yp == 1:\n",
        "            fp += 1           \n",
        "    return fp\n",
        "\n",
        "def false_negative(y_true, y_pred):   \n",
        "    fn = 0   \n",
        "    for yt, yp in zip(y_true, y_pred):        \n",
        "        if yt == 1 and yp == 0:\n",
        "            fn += 1           \n",
        "    return fn"
      ],
      "metadata": {
        "id": "rAIws1-vHFwW"
      },
      "execution_count": 32,
      "outputs": []
    },
    {
      "cell_type": "markdown",
      "source": [
        "**Macro-averaged Precision**"
      ],
      "metadata": {
        "id": "OX_xoPMBHMFV"
      }
    },
    {
      "cell_type": "code",
      "source": [
        "def macro_precision(y_true, y_pred):\n",
        "\n",
        "    # Xác định số lượng lớp\n",
        "    num_classes = len(np.unique(y_true))\n",
        "\n",
        "    # Khởi tạo precision = 0\n",
        "    precision = 0\n",
        "    \n",
        "    # Duyệt qua từng lớp\n",
        "    for class_ in list(y_true.unique()):\n",
        "        \n",
        "        # Tất cả các lớp ngoại trừ lớp hiện tại được coi là negative\n",
        "        temp_true = [1 if p == class_ else 0 for p in y_true]\n",
        "        temp_pred = [1 if p == class_ else 0 for p in y_pred]\n",
        "        \n",
        "        \n",
        "        # Tính toán true positive cho lớp hiện tại\n",
        "        tp = true_positive(temp_true, temp_pred)\n",
        "        \n",
        "        # Tính toán false positive cho lớp hiện tại\n",
        "        fp = false_positive(temp_true, temp_pred)\n",
        "        \n",
        "        \n",
        "        # Tính toán precision cho lớp hiện tại\n",
        "        temp_precision = tp / (tp + fp + 1e-6)\n",
        "        precision += temp_precision\n",
        "        \n",
        "    # Tính toán và trả về precision trung bình trên tất cả các lớp\n",
        "    precision /= num_classes\n",
        "    \n",
        "    return precision"
      ],
      "metadata": {
        "id": "YUDCwWkZHLRl"
      },
      "execution_count": 33,
      "outputs": []
    },
    {
      "cell_type": "code",
      "source": [
        "print(f\"Macro-averaged Precision score for Logistic Regression : {macro_precision(y_test, lr_pred) }\")\n",
        "print(f\"Macro-averaged Precision score for SVM : {macro_precision(y_test, svc_pred) }\")"
      ],
      "metadata": {
        "colab": {
          "base_uri": "https://localhost:8080/"
        },
        "id": "g_XQtkIaHopm",
        "outputId": "a247d5c6-a385-464f-b294-b85d29fb29f7"
      },
      "execution_count": 34,
      "outputs": [
        {
          "output_type": "stream",
          "name": "stdout",
          "text": [
            "Macro-averaged Precision score for Logistic Regression : 0.7197508708338805\n",
            "Macro-averaged Precision score for SVM : 0.679212600699505\n"
          ]
        }
      ]
    },
    {
      "cell_type": "code",
      "source": [
        "#Kiểm tra lại kết quả tính toán với hàm Precision của sklearn\n",
        "lr_precision_macro = metrics.precision_score(y_test, lr_pred, average = 'macro')\n",
        "svc_precision_macro = metrics.precision_score(y_test, svc_pred, average = 'macro')\n",
        "print(f\"Macro-averaged Precision score for Logistic Regression : {lr_precision_macro}\")\n",
        "print(f\"Macro-averaged Precision score for SVM : {svc_precision_macro}\")"
      ],
      "metadata": {
        "colab": {
          "base_uri": "https://localhost:8080/"
        },
        "id": "14KjfYUPH0KK",
        "outputId": "841ed986-085b-4ed1-fbcc-ffeef9738566"
      },
      "execution_count": 35,
      "outputs": [
        {
          "output_type": "stream",
          "name": "stdout",
          "text": [
            "Macro-averaged Precision score for Logistic Regression : 0.7197508752971639\n",
            "Macro-averaged Precision score for SVM : 0.6792126044972685\n"
          ]
        }
      ]
    },
    {
      "cell_type": "markdown",
      "source": [
        "**Micro-averaged Precision**"
      ],
      "metadata": {
        "id": "Za51n7JUISRG"
      }
    },
    {
      "cell_type": "code",
      "source": [
        "def micro_precision(y_true, y_pred):\n",
        "\n",
        "    # Xác định số lượng lớp\n",
        "    num_classes = len(np.unique(y_true))\n",
        "    \n",
        "    tp = 0\n",
        "    fp = 0\n",
        "    \n",
        "    # Duyệt qua từng lớp\n",
        "    for class_ in y_true.unique():\n",
        "        \n",
        "        # Tất cả các lớp ngoại trừ lớp hiện tại được coi là negative\n",
        "        temp_true = [1 if p == class_ else 0 for p in y_true]\n",
        "        temp_pred = [1 if p == class_ else 0 for p in y_pred]\n",
        "        \n",
        "        # Tính toán true positive cho lớp hiện tại\n",
        "        # và cập nhật overall tp\n",
        "        tp += true_positive(temp_true, temp_pred)\n",
        "        \n",
        "        # Tính toán false positive cho lớp hiện tại\n",
        "        # và cập nhật overall fp\n",
        "        fp += false_positive(temp_true, temp_pred)\n",
        "        \n",
        "    # Tính toán và trả về overall precision\n",
        "    precision = tp / (tp + fp)\n",
        "    return precision"
      ],
      "metadata": {
        "id": "4XzBOpxgIURl"
      },
      "execution_count": 36,
      "outputs": []
    },
    {
      "cell_type": "code",
      "source": [
        "print(f\"Micro-averaged Precision score for Logistic Regression : {micro_precision(y_test, lr_pred)}\")\n",
        "print(f\"Micro-averaged Precision score for SVM : {micro_precision(y_test, svc_pred)}\")"
      ],
      "metadata": {
        "colab": {
          "base_uri": "https://localhost:8080/"
        },
        "id": "_87IsPaCI2T_",
        "outputId": "a75a63bd-f7d2-470e-fb01-66102ff1be64"
      },
      "execution_count": 37,
      "outputs": [
        {
          "output_type": "stream",
          "name": "stdout",
          "text": [
            "Micro-averaged Precision score for Logistic Regression : 0.7453608247422681\n",
            "Micro-averaged Precision score for SVM : 0.7278350515463917\n"
          ]
        }
      ]
    },
    {
      "cell_type": "code",
      "source": [
        "#Kiểm tra lại kết quả tính toán với hàm Precision của sklearn\n",
        "lr_precision_micro = metrics.precision_score(y_test, lr_pred, average = 'micro')\n",
        "svc_precision_micro = metrics.precision_score(y_test, svc_pred, average = 'micro')\n",
        "print(f\"Micro-averaged Precision score for Logistic Regression : {lr_precision_micro}\")\n",
        "print(f\"Micro-averaged Precision score for SVM : {svc_precision_micro}\")"
      ],
      "metadata": {
        "colab": {
          "base_uri": "https://localhost:8080/"
        },
        "id": "3gm4dvRCJEme",
        "outputId": "adb119e1-c552-471c-bb57-83531db3d836"
      },
      "execution_count": 38,
      "outputs": [
        {
          "output_type": "stream",
          "name": "stdout",
          "text": [
            "Micro-averaged Precision score for Logistic Regression : 0.7453608247422681\n",
            "Micro-averaged Precision score for SVM : 0.7278350515463917\n"
          ]
        }
      ]
    },
    {
      "cell_type": "markdown",
      "source": [
        "**Macro-averaged recall**"
      ],
      "metadata": {
        "id": "g4oHaXIqJ7fi"
      }
    },
    {
      "cell_type": "code",
      "source": [
        "def macro_recall(y_true, y_pred):\n",
        "\n",
        "    # Xác định số lượng lớp\n",
        "    num_classes = len(np.unique(y_true))\n",
        "\n",
        "    # Khởi tạo recall = 0\n",
        "    recall = 0\n",
        "    \n",
        "    # Duyệt qua từng lớp\n",
        "    for class_ in list(y_true.unique()):\n",
        "        \n",
        "        # Tất cả các lớp ngoại trừ lớp hiện tại được coi là negative\n",
        "        temp_true = [1 if p == class_ else 0 for p in y_true]\n",
        "        temp_pred = [1 if p == class_ else 0 for p in y_pred]\n",
        "        \n",
        "        \n",
        "        # Tính toán true positive cho lớp hiện tại\n",
        "        tp = true_positive(temp_true, temp_pred)\n",
        "        \n",
        "        # Tính toán false positive cho lớp hiện tại\n",
        "        fn = false_negative(temp_true, temp_pred)\n",
        "        \n",
        "        \n",
        "        # Tính toán recall cho lớp hiện tại\n",
        "        temp_recall = tp / (tp + fn + 1e-6)\n",
        "        recall += temp_recall\n",
        "        \n",
        "    # Tính toán và trả về recall trung bình trên tất cả các lớp\n",
        "    recall /= num_classes\n",
        "    \n",
        "    return recall"
      ],
      "metadata": {
        "id": "PnhOoXvrKAN1"
      },
      "execution_count": 39,
      "outputs": []
    },
    {
      "cell_type": "code",
      "source": [
        "print(f\"Macro-averaged recall score for Logistic Regression : {macro_recall(y_test, lr_pred)}\")\n",
        "print(f\"Macro-averaged recall score for SVM : {macro_recall(y_test, svc_pred)}\")"
      ],
      "metadata": {
        "colab": {
          "base_uri": "https://localhost:8080/"
        },
        "id": "mKbQH6y4K51X",
        "outputId": "6539c05a-6948-44a8-c908-4eda035d5351"
      },
      "execution_count": 40,
      "outputs": [
        {
          "output_type": "stream",
          "name": "stdout",
          "text": [
            "Macro-averaged recall score for Logistic Regression : 0.6414545583949268\n",
            "Macro-averaged recall score for SVM : 0.6192280627120078\n"
          ]
        }
      ]
    },
    {
      "cell_type": "code",
      "source": [
        "#Kiểm tra lại kết quả tính toán với hàm Recall của sklearn\n",
        "lr_recall_macro = metrics.recall_score(y_test, lr_pred, average = 'macro')\n",
        "svc_recall_macro = metrics.recall_score(y_test, svc_pred, average = 'macro')\n",
        "print(f\"Macro-averaged recall score for Logistic Regression : {lr_recall_macro}\")\n",
        "print(f\"Macro-averaged recall score for SVM : {svc_recall_macro}\")"
      ],
      "metadata": {
        "colab": {
          "base_uri": "https://localhost:8080/"
        },
        "id": "q5QSbXxSLHX9",
        "outputId": "f31707d0-9f10-4ce4-98f4-9ac130e4f17f"
      },
      "execution_count": 41,
      "outputs": [
        {
          "output_type": "stream",
          "name": "stdout",
          "text": [
            "Macro-averaged recall score for Logistic Regression : 0.6414545609292676\n",
            "Macro-averaged recall score for SVM : 0.6192280651264827\n"
          ]
        }
      ]
    },
    {
      "cell_type": "markdown",
      "source": [
        "**Micro-averaged recall**"
      ],
      "metadata": {
        "id": "gsQtLCdDLtxO"
      }
    },
    {
      "cell_type": "code",
      "source": [
        "def micro_recall(y_true, y_pred):\n",
        "\n",
        "    # Xác định số lượng lớp \n",
        "    num_classes = len(np.unique(y_true))\n",
        "    \n",
        "    tp = 0\n",
        "    fn = 0\n",
        "    \n",
        "    # Duyệt qua từng lớp\n",
        "    for class_ in y_true.unique():\n",
        "        \n",
        "        # Tất cả các lớp ngoại trừ lớp hiện tại được coi là negative\n",
        "        temp_true = [1 if p == class_ else 0 for p in y_true]\n",
        "        temp_pred = [1 if p == class_ else 0 for p in y_pred]\n",
        "        \n",
        "        # Tính toán true positive cho lớp hiện tại\n",
        "        # và cập nhật overall tp\n",
        "        tp += true_positive(temp_true, temp_pred)\n",
        "        \n",
        "        # Tính toán false positive cho lớp hiện tại\n",
        "        # và cập nhật overall tp\n",
        "        fn += false_negative(temp_true, temp_pred)\n",
        "        \n",
        "    # Tính toán và trả về overall recall\n",
        "    recall = tp / (tp + fn)\n",
        "    return recall"
      ],
      "metadata": {
        "id": "y-gMClFLLx19"
      },
      "execution_count": 42,
      "outputs": []
    },
    {
      "cell_type": "code",
      "source": [
        "print(f\"Micro-averaged recall score for Logistic Regression : {micro_recall(y_test, lr_pred)}\")\n",
        "print(f\"Micro-averaged recall score for SVM : {micro_recall(y_test, svc_pred)}\")"
      ],
      "metadata": {
        "colab": {
          "base_uri": "https://localhost:8080/"
        },
        "id": "xsUwU4hdMOCJ",
        "outputId": "731a55fd-238f-488d-d610-9608583ef254"
      },
      "execution_count": 43,
      "outputs": [
        {
          "output_type": "stream",
          "name": "stdout",
          "text": [
            "Micro-averaged recall score for Logistic Regression : 0.7453608247422681\n",
            "Micro-averaged recall score for SVM : 0.7278350515463917\n"
          ]
        }
      ]
    },
    {
      "cell_type": "code",
      "source": [
        "#Kiểm tra lại kết quả tính toán với hàm Recall của sklearn\n",
        "lr_recall_micro = metrics.recall_score(y_test, lr_pred, average = 'micro')\n",
        "svc_recall_micro = metrics.recall_score(y_test, svc_pred, average = 'micro')\n",
        "print(f\"Micro-averaged recall score for Logistic Regression : {lr_recall_micro}\")\n",
        "print(f\"Micro-averaged recall score for SVM : {svc_recall_micro}\")"
      ],
      "metadata": {
        "colab": {
          "base_uri": "https://localhost:8080/"
        },
        "id": "5KSU8j-aMX4f",
        "outputId": "c2c7279f-c6b5-4692-a854-7c501427ace3"
      },
      "execution_count": 44,
      "outputs": [
        {
          "output_type": "stream",
          "name": "stdout",
          "text": [
            "Micro-averaged recall score for Logistic Regression : 0.7453608247422681\n",
            "Micro-averaged recall score for SVM : 0.7278350515463917\n"
          ]
        }
      ]
    },
    {
      "cell_type": "markdown",
      "source": [
        "**Macro-averaged f1 score**"
      ],
      "metadata": {
        "id": "mr3iU4M0Mvit"
      }
    },
    {
      "cell_type": "code",
      "source": [
        "def macro_f1(y_true, y_pred):\n",
        "\n",
        "    # Xác định số lượng lớp\n",
        "    num_classes = len(np.unique(y_true))\n",
        "\n",
        "    # Khởi tạo f1 = 0\n",
        "    f1 = 0\n",
        "    \n",
        "    # Duyệt qua từng lớp\n",
        "    for class_ in list(y_true.unique()):\n",
        "        \n",
        "        # Tất cả các lớp ngoại trừ lớp hiện tại được coi là negative\n",
        "        temp_true = [1 if p == class_ else 0 for p in y_true]\n",
        "        temp_pred = [1 if p == class_ else 0 for p in y_pred]\n",
        "        \n",
        "        \n",
        "        # Tính toán true positive cho lớp hiện tại\n",
        "        tp = true_positive(temp_true, temp_pred)\n",
        "        \n",
        "        # Tính toán false negative cho lớp hiện tại\n",
        "        fn = false_negative(temp_true, temp_pred)\n",
        "        \n",
        "        # Tính toán false positive cho lớp hiện tại\n",
        "        fp = false_positive(temp_true, temp_pred)\n",
        "        \n",
        "        \n",
        "        # Tính toán recall cho lớp hiện tại\n",
        "        temp_recall = tp / (tp + fn + 1e-6)\n",
        "        \n",
        "        # Tính toán precision cho lớp hiện tại\n",
        "        temp_precision = tp / (tp + fp + 1e-6)\n",
        "\n",
        "        #Tính toán f1-score cho lớp hiện tại        \n",
        "        temp_f1 = 2 * temp_precision * temp_recall / (temp_precision + temp_recall + 1e-6)      \n",
        "        f1 += temp_f1\n",
        "        \n",
        "    # Tính toán và trả về f1-score trung bình trên tất cả các lớp\n",
        "    f1 /= num_classes\n",
        "    \n",
        "    return f1"
      ],
      "metadata": {
        "id": "eMbc3qaJMxH3"
      },
      "execution_count": 45,
      "outputs": []
    },
    {
      "cell_type": "code",
      "source": [
        "print(f\"Macro-averaged f1-score for Logistic Regression : {macro_f1(y_test, lr_pred)}\")\n",
        "print(f\"Macro-averaged f1-score for SVM : {macro_f1(y_test, svc_pred)}\")"
      ],
      "metadata": {
        "colab": {
          "base_uri": "https://localhost:8080/"
        },
        "id": "ASwqPn9qNtSl",
        "outputId": "63f61c8e-7caa-49e4-9768-f6537bbc83fe"
      },
      "execution_count": 46,
      "outputs": [
        {
          "output_type": "stream",
          "name": "stdout",
          "text": [
            "Macro-averaged f1-score for Logistic Regression : 0.6694788728944173\n",
            "Macro-averaged f1-score for SVM : 0.641264537923507\n"
          ]
        }
      ]
    },
    {
      "cell_type": "code",
      "source": [
        "#Kiểm tra lại kết quả tính toán với hàm Recall của sklearn\n",
        "lr_f1_macro = metrics.f1_score(y_test, lr_pred, average = 'macro')\n",
        "svc_f1_macro = metrics.f1_score(y_test, svc_pred, average = 'macro')\n",
        "print(f\"Macro-averaged f1-score for Logistic Regression : {lr_f1_macro}\")\n",
        "print(f\"Macro-averaged f1-score for SVM : {svc_f1_macro}\")"
      ],
      "metadata": {
        "colab": {
          "base_uri": "https://localhost:8080/"
        },
        "id": "u2MLDCZgN66U",
        "outputId": "b0d34298-ad4e-4807-97eb-a5b5dc4fd06f"
      },
      "execution_count": 47,
      "outputs": [
        {
          "output_type": "stream",
          "name": "stdout",
          "text": [
            "Macro-averaged f1-score for Logistic Regression : 0.6694793668551036\n",
            "Macro-averaged f1-score for SVM : 0.641265033880203\n"
          ]
        }
      ]
    },
    {
      "cell_type": "markdown",
      "source": [
        "**Micro-averaged f1 score**"
      ],
      "metadata": {
        "id": "MIGqxpIBONz1"
      }
    },
    {
      "cell_type": "code",
      "source": [
        "def micro_f1(y_true, y_pred):\n",
        "\n",
        "    #micro-averaged precision score\n",
        "    P = micro_precision(y_true, y_pred)\n",
        "\n",
        "    #micro-averaged recall score\n",
        "    R = micro_recall(y_true, y_pred)\n",
        "\n",
        "    #micro averaged f1 score\n",
        "    f1 = 2*P*R / (P + R)    \n",
        "\n",
        "    return f1"
      ],
      "metadata": {
        "id": "e87Rb-NKOQyF"
      },
      "execution_count": 48,
      "outputs": []
    },
    {
      "cell_type": "code",
      "source": [
        "print(f\"Micro-averaged f1-score for Logistic Regression : {micro_f1(y_test, lr_pred)}\")\n",
        "print(f\"Micro-averaged f1-score for SVM : {micro_f1(y_test, svc_pred)}\")"
      ],
      "metadata": {
        "colab": {
          "base_uri": "https://localhost:8080/"
        },
        "id": "MuoY_hT0OfeN",
        "outputId": "db59ce1d-f15d-4322-a517-5e03fa1e4bf1"
      },
      "execution_count": 49,
      "outputs": [
        {
          "output_type": "stream",
          "name": "stdout",
          "text": [
            "Micro-averaged f1-score for Logistic Regression : 0.7453608247422681\n",
            "Micro-averaged f1-score for SVM : 0.7278350515463918\n"
          ]
        }
      ]
    },
    {
      "cell_type": "code",
      "source": [
        "#Kiểm tra lại kết quả tính toán với hàm Recall của sklearn\n",
        "lr_f1_micro = metrics.f1_score(y_test, lr_pred, average = 'micro')\n",
        "svc_f1_micro = metrics.f1_score(y_test, svc_pred, average = 'micro')\n",
        "print(f\"Micro-averaged f1-score for Logistic Regression : {lr_f1_micro}\")\n",
        "print(f\"Micro-averaged f1-score for SVM : {svc_f1_micro}\")"
      ],
      "metadata": {
        "colab": {
          "base_uri": "https://localhost:8080/"
        },
        "id": "zSRI3MftOnXl",
        "outputId": "3f6fceae-05db-4127-fd34-26444b59c989"
      },
      "execution_count": 50,
      "outputs": [
        {
          "output_type": "stream",
          "name": "stdout",
          "text": [
            "Micro-averaged f1-score for Logistic Regression : 0.7453608247422681\n",
            "Micro-averaged f1-score for SVM : 0.7278350515463918\n"
          ]
        }
      ]
    },
    {
      "cell_type": "markdown",
      "source": [
        "**Bảng tổng hợp Precision, Recall và F1-score**"
      ],
      "metadata": {
        "id": "77KAPLk9PXgl"
      }
    },
    {
      "cell_type": "code",
      "source": [
        "models = ['Logistic Regression', 'SVM']\n",
        "\n",
        "precision_macro = [lr_precision_macro, svc_precision_macro]\n",
        "precision_micro = [lr_precision_micro, svc_precision_micro]\n",
        "\n",
        "recall_macro = [lr_recall_macro, svc_recall_macro]\n",
        "recall_micro = [lr_recall_micro, svc_recall_micro]\n",
        "\n",
        "f1_marco = [lr_f1_macro, svc_f1_macro]\n",
        "f1_mirco = [lr_f1_micro, svc_f1_micro]\n",
        "\n",
        "table = pd.DataFrame({'Model': models, 'Precision_macro': precision_macro, 'Precision_micro': precision_micro\n",
        "                  , 'Recall_macro': recall_macro, 'Recall_micro': recall_micro, 'F1_marco': f1_marco,\n",
        "                   'F1_mirco': f1_mirco})\n",
        "print(table)"
      ],
      "metadata": {
        "colab": {
          "base_uri": "https://localhost:8080/"
        },
        "id": "SKwLruAIPeCE",
        "outputId": "865cfa41-d5f4-44b0-fe88-ff66722f682a"
      },
      "execution_count": 51,
      "outputs": [
        {
          "output_type": "stream",
          "name": "stdout",
          "text": [
            "                 Model  Precision_macro  Precision_micro  Recall_macro  \\\n",
            "0  Logistic Regression         0.719751         0.745361      0.641455   \n",
            "1                  SVM         0.679213         0.727835      0.619228   \n",
            "\n",
            "   Recall_micro  F1_marco  F1_mirco  \n",
            "0      0.745361  0.669479  0.745361  \n",
            "1      0.727835  0.641265  0.727835  \n"
          ]
        }
      ]
    },
    {
      "cell_type": "code",
      "source": [
        "series = pd.DataFrame(lr_pred, columns = [\"Sentiment\"])"
      ],
      "metadata": {
        "id": "xJTKEhtIthQ3"
      },
      "execution_count": 52,
      "outputs": []
    },
    {
      "cell_type": "code",
      "source": [
        "print(series)"
      ],
      "metadata": {
        "colab": {
          "base_uri": "https://localhost:8080/"
        },
        "id": "JR6lEW6k05GW",
        "outputId": "ee829463-d503-4dc2-90f7-c4313c604a3d"
      },
      "execution_count": 53,
      "outputs": [
        {
          "output_type": "stream",
          "name": "stdout",
          "text": [
            "     Sentiment\n",
            "0            0\n",
            "1            2\n",
            "2            0\n",
            "3            2\n",
            "4            0\n",
            "..         ...\n",
            "965          0\n",
            "966          2\n",
            "967          2\n",
            "968          0\n",
            "969          0\n",
            "\n",
            "[970 rows x 1 columns]\n"
          ]
        }
      ]
    },
    {
      "cell_type": "code",
      "source": [
        "f,ax=plt.subplots(1,2,figsize=(12,6))\n",
        "series['Sentiment'].value_counts().plot.pie(autopct='%1.1f%%',ax=ax[0],shadow=True)\n",
        "ax[0].set_title('Tỷ lệ từng giá trị của Sentiment', color = 'Red', fontsize = '15')\n",
        "ax[0].set_ylabel('')\n",
        "ax[0].legend(title = 'Ghi chú', fontsize = 13, loc = 'lower right')\n",
        "sns.countplot('Sentiment',data=series,ax=ax[1])\n",
        "ax[1].set_title('Số lượng từng giá trị của Default', color = 'Red', fontsize = '15')\n",
        "ax[1].set_xlabel('Giá trị', color = 'Red', fontsize = '13')\n",
        "ax[1].set_ylabel('Số lượng', color = 'Red', fontsize = '13')\n",
        "plt.show()"
      ],
      "metadata": {
        "colab": {
          "base_uri": "https://localhost:8080/",
          "height": 466
        },
        "id": "heIKSsfx2eL4",
        "outputId": "d8bb63de-06e3-43a9-e0fb-1f79f524e533"
      },
      "execution_count": 54,
      "outputs": [
        {
          "output_type": "stream",
          "name": "stderr",
          "text": [
            "/usr/local/lib/python3.8/dist-packages/seaborn/_decorators.py:36: FutureWarning: Pass the following variable as a keyword arg: x. From version 0.12, the only valid positional argument will be `data`, and passing other arguments without an explicit keyword will result in an error or misinterpretation.\n",
            "  warnings.warn(\n"
          ]
        },
        {
          "output_type": "display_data",
          "data": {
            "text/plain": [
              "<Figure size 864x432 with 2 Axes>"
            ],
            "image/png": "[encoded data removed]"
          },
          "metadata": {
            "needs_background": "light"
          }
        }
      ]
    }
  ]
}